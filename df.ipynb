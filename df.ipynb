{
 "cells": [
  {
   "cell_type": "code",
   "execution_count": 4,
   "metadata": {},
   "outputs": [
    {
     "name": "stdout",
     "output_type": "stream",
     "text": [
      "dict_keys(['Bizarrap+Quevedo: Bzrp Music Sessions, Vol. 52', 'Harry Styles+As It Was', 'Bad Bunny+Me Porto Bonito', 'Bad Bunny+Tití Me Preguntó', 'ROSALÍA+DESPECHÁ', 'Manuel Turizo+La Bachata', 'BLACKPINK+Pink Venom', 'Bad Bunny+Efecto', \"OneRepublic+I Ain't Worried\", \"David Guetta+I'm Good (Blue)\", 'Kate Bush+Running Up That Hill (A Deal With God)', 'Bad Bunny+Ojitos Lindos', 'Nicki Minaj+Super Freaky Girl', 'Steve Lacy+Bad Habit', 'Chris Brown+Under The Influence', 'Bad Bunny+Moscow Mule', 'Joji+Glimpse of Us', 'KAROL G+PROVENZA', 'Glass Animals+Heat Waves', 'Rosa Linn+SNAP', 'Harry Styles+Late Night Talking', 'Central Cee+Doja', 'Charlie Puth+Left and Right (Feat. Jung Kook of BTS)', 'Elton John+Hold Me Closer', 'The Kid LAROI+STAY (with Justin Bieber)', 'Lizzo+About Damn Time', 'Post Malone+I Like You (A Happier Song) (with Doja Cat)', 'Bad Bunny+Neverita', 'Stephen Sanchez+Until I Found You', 'Tom Odell+Another Love', 'Luar La L+Caile', 'Nicky Youre+Sunroof', 'KAROL G+GATÚBELA', 'James Hype+Ferrari', 'Elton John+Cold Heart - PNAU Remix', 'Bad Bunny+Tarot', 'Shakira+Te Felicito', 'Imagine Dragons+Bones', 'Bad Bunny+Party', 'Doja Cat+Vegas (From the Original Motion Picture Soundtrack ELVIS)', 'Camila Cabello+Bam Bam (feat. Ed Sheeran)', 'The Weeknd+Die For You', 'Rels B+cómo dormiste?', 'The Neighbourhood+Sweater Weather', 'Rauw Alejandro+LOKERA', 'Drake+Jimmy Cooks (feat. 21 Savage)', 'Ghost+Mary On A Cross', 'Justin Bieber+Ghost', 'Bad Bunny+La Corriente', 'The Weeknd+Blinding Lights'])\n"
     ]
    }
   ],
   "source": [
    "import spotipy\n",
    "from spotipy.oauth2 import SpotifyClientCredentials\n",
    "import pandas as pd\n",
    "import matplotlib.pyplot as plt\n",
    "\n",
    "sp = spotipy.Spotify(auth_manager=SpotifyClientCredentials(client_id=\"7469b025690441a6900dbdf0fd955211\",\n",
    "                                                           client_secret=\"94d9a566dcb1458babdfc4992902db7c\"))\n",
    "\n",
    "headers = {\n",
    "    'Authorization': 'Bearer {token}'.format(token='BQDaNe7mUS1ejXNVtlq1vgliz6Nhjgeoyo3AJsMkWdd3qFjYGtJJ9BMztFvaR8AfFbaxiTmLEvgVxBES_Bt9PAMUhzsAeMvQrRI0lKtDSFXgwVOoGcHt_KXsUQNuAqvaZ5jMeqCZmQZPHSmsZQ0-VmTMKEpVZ3k-B6qbQz-jGZC2CbjF4_zqAiZMjasPkBTMVzI')\n",
    "}\n",
    "\n",
    "import requests\n",
    "# base URL of all Spotify API endpoints\n",
    "BASE_URL = 'https://api.spotify.com/v1/'\n",
    "\n",
    "# Track ID from the URI\n",
    "track_id = '7ouMYWpwJ422jRcDASZB7P'\n",
    "\n",
    "# actual GET request with proper header\n",
    "r = requests.get(BASE_URL + 'audio-features/' + track_id, headers=headers)\n",
    "\n",
    "artist_name = []\n",
    "track_name = []\n",
    "track_id = []\n",
    "track_number = []\n",
    "\n",
    "lista_response = []\n",
    "dct_response = {}\n",
    "\n",
    "results = sp.playlist_tracks(playlist_id='37i9dQZEVXbMDoHDwVN2tF')\n",
    "\n",
    "for i, item in enumerate(results['items']):\n",
    "    track = item['track']\n",
    "    artist_name.append(track['artists'][0]['name'])\n",
    "    track_name.append(track['name'])\n",
    "    track_id.append(track['id'])\n",
    "    r = requests.get(BASE_URL + 'audio-features/' + track['id'], headers=headers)\n",
    "    lista = r.json()\n",
    "    dct_response.update({track['artists'][0]['name']+\"+\"+track['name']: lista})\n",
    "\n",
    "\n",
    "\n",
    "print(dct_response.keys())\n"
   ]
  },
  {
   "cell_type": "code",
   "execution_count": 5,
   "metadata": {},
   "outputs": [
    {
     "data": {
      "text/plain": [
       "dict_keys(['Bizarrap+Quevedo: Bzrp Music Sessions, Vol. 52', 'Harry Styles+As It Was', 'Bad Bunny+Me Porto Bonito', 'Bad Bunny+Tití Me Preguntó', 'ROSALÍA+DESPECHÁ', 'Manuel Turizo+La Bachata', 'BLACKPINK+Pink Venom', 'Bad Bunny+Efecto', \"OneRepublic+I Ain't Worried\", \"David Guetta+I'm Good (Blue)\", 'Kate Bush+Running Up That Hill (A Deal With God)', 'Bad Bunny+Ojitos Lindos', 'Nicki Minaj+Super Freaky Girl', 'Steve Lacy+Bad Habit', 'Chris Brown+Under The Influence', 'Bad Bunny+Moscow Mule', 'Joji+Glimpse of Us', 'KAROL G+PROVENZA', 'Glass Animals+Heat Waves', 'Rosa Linn+SNAP', 'Harry Styles+Late Night Talking', 'Central Cee+Doja', 'Charlie Puth+Left and Right (Feat. Jung Kook of BTS)', 'Elton John+Hold Me Closer', 'The Kid LAROI+STAY (with Justin Bieber)', 'Lizzo+About Damn Time', 'Post Malone+I Like You (A Happier Song) (with Doja Cat)', 'Bad Bunny+Neverita', 'Stephen Sanchez+Until I Found You', 'Tom Odell+Another Love', 'Luar La L+Caile', 'Nicky Youre+Sunroof', 'KAROL G+GATÚBELA', 'James Hype+Ferrari', 'Elton John+Cold Heart - PNAU Remix', 'Bad Bunny+Tarot', 'Shakira+Te Felicito', 'Imagine Dragons+Bones', 'Bad Bunny+Party', 'Doja Cat+Vegas (From the Original Motion Picture Soundtrack ELVIS)', 'Camila Cabello+Bam Bam (feat. Ed Sheeran)', 'The Weeknd+Die For You', 'Rels B+cómo dormiste?', 'The Neighbourhood+Sweater Weather', 'Rauw Alejandro+LOKERA', 'Drake+Jimmy Cooks (feat. 21 Savage)', 'Ghost+Mary On A Cross', 'Justin Bieber+Ghost', 'Bad Bunny+La Corriente', 'The Weeknd+Blinding Lights'])"
      ]
     },
     "execution_count": 5,
     "metadata": {},
     "output_type": "execute_result"
    }
   ],
   "source": [
    "dct_response.keys()\n",
    "\n"
   ]
  },
  {
   "cell_type": "code",
   "execution_count": 6,
   "metadata": {},
   "outputs": [
    {
     "ename": "ValueError",
     "evalue": "If using all scalar values, you must pass an index",
     "output_type": "error",
     "traceback": [
      "\u001b[1;31m---------------------------------------------------------------------------\u001b[0m",
      "\u001b[1;31mValueError\u001b[0m                                Traceback (most recent call last)",
      "\u001b[1;32mc:\\xampp\\htdocs\\mqa\\spotify\\df.ipynb Cell 3\u001b[0m in \u001b[0;36m<cell line: 5>\u001b[1;34m()\u001b[0m\n\u001b[0;32m      <a href='vscode-notebook-cell:/c%3A/xampp/htdocs/mqa/spotify/df.ipynb#W2sZmlsZQ%3D%3D?line=1'>2</a>\u001b[0m     nome_artista \u001b[39m=\u001b[39m key\u001b[39m.\u001b[39msplit(\u001b[39m\"\u001b[39m\u001b[39m+\u001b[39m\u001b[39m\"\u001b[39m)[\u001b[39m0\u001b[39m]\n\u001b[0;32m      <a href='vscode-notebook-cell:/c%3A/xampp/htdocs/mqa/spotify/df.ipynb#W2sZmlsZQ%3D%3D?line=2'>3</a>\u001b[0m     nome_musica \u001b[39m=\u001b[39m key\u001b[39m.\u001b[39msplit(\u001b[39m\"\u001b[39m\u001b[39m+\u001b[39m\u001b[39m\"\u001b[39m)[\u001b[39m1\u001b[39m]\n\u001b[1;32m----> <a href='vscode-notebook-cell:/c%3A/xampp/htdocs/mqa/spotify/df.ipynb#W2sZmlsZQ%3D%3D?line=4'>5</a>\u001b[0m df \u001b[39m=\u001b[39m pd\u001b[39m.\u001b[39;49mDataFrame({\n\u001b[0;32m      <a href='vscode-notebook-cell:/c%3A/xampp/htdocs/mqa/spotify/df.ipynb#W2sZmlsZQ%3D%3D?line=5'>6</a>\u001b[0m     \u001b[39m'\u001b[39;49m\u001b[39mNome Artista\u001b[39;49m\u001b[39m'\u001b[39;49m: nome_artista,\n\u001b[0;32m      <a href='vscode-notebook-cell:/c%3A/xampp/htdocs/mqa/spotify/df.ipynb#W2sZmlsZQ%3D%3D?line=6'>7</a>\u001b[0m     \u001b[39m'\u001b[39;49m\u001b[39mNome da musica\u001b[39;49m\u001b[39m'\u001b[39;49m: nome_musica\n\u001b[0;32m      <a href='vscode-notebook-cell:/c%3A/xampp/htdocs/mqa/spotify/df.ipynb#W2sZmlsZQ%3D%3D?line=7'>8</a>\u001b[0m \n\u001b[0;32m      <a href='vscode-notebook-cell:/c%3A/xampp/htdocs/mqa/spotify/df.ipynb#W2sZmlsZQ%3D%3D?line=8'>9</a>\u001b[0m })\n",
      "File \u001b[1;32mc:\\Users\\dafs\\AppData\\Local\\Programs\\Python\\Python39\\lib\\site-packages\\pandas\\core\\frame.py:636\u001b[0m, in \u001b[0;36mDataFrame.__init__\u001b[1;34m(self, data, index, columns, dtype, copy)\u001b[0m\n\u001b[0;32m    630\u001b[0m     mgr \u001b[39m=\u001b[39m \u001b[39mself\u001b[39m\u001b[39m.\u001b[39m_init_mgr(\n\u001b[0;32m    631\u001b[0m         data, axes\u001b[39m=\u001b[39m{\u001b[39m\"\u001b[39m\u001b[39mindex\u001b[39m\u001b[39m\"\u001b[39m: index, \u001b[39m\"\u001b[39m\u001b[39mcolumns\u001b[39m\u001b[39m\"\u001b[39m: columns}, dtype\u001b[39m=\u001b[39mdtype, copy\u001b[39m=\u001b[39mcopy\n\u001b[0;32m    632\u001b[0m     )\n\u001b[0;32m    634\u001b[0m \u001b[39melif\u001b[39;00m \u001b[39misinstance\u001b[39m(data, \u001b[39mdict\u001b[39m):\n\u001b[0;32m    635\u001b[0m     \u001b[39m# GH#38939 de facto copy defaults to False only in non-dict cases\u001b[39;00m\n\u001b[1;32m--> 636\u001b[0m     mgr \u001b[39m=\u001b[39m dict_to_mgr(data, index, columns, dtype\u001b[39m=\u001b[39;49mdtype, copy\u001b[39m=\u001b[39;49mcopy, typ\u001b[39m=\u001b[39;49mmanager)\n\u001b[0;32m    637\u001b[0m \u001b[39melif\u001b[39;00m \u001b[39misinstance\u001b[39m(data, ma\u001b[39m.\u001b[39mMaskedArray):\n\u001b[0;32m    638\u001b[0m     \u001b[39mimport\u001b[39;00m \u001b[39mnumpy\u001b[39;00m\u001b[39m.\u001b[39;00m\u001b[39mma\u001b[39;00m\u001b[39m.\u001b[39;00m\u001b[39mmrecords\u001b[39;00m \u001b[39mas\u001b[39;00m \u001b[39mmrecords\u001b[39;00m\n",
      "File \u001b[1;32mc:\\Users\\dafs\\AppData\\Local\\Programs\\Python\\Python39\\lib\\site-packages\\pandas\\core\\internals\\construction.py:502\u001b[0m, in \u001b[0;36mdict_to_mgr\u001b[1;34m(data, index, columns, dtype, typ, copy)\u001b[0m\n\u001b[0;32m    494\u001b[0m     arrays \u001b[39m=\u001b[39m [\n\u001b[0;32m    495\u001b[0m         x\n\u001b[0;32m    496\u001b[0m         \u001b[39mif\u001b[39;00m \u001b[39mnot\u001b[39;00m \u001b[39mhasattr\u001b[39m(x, \u001b[39m\"\u001b[39m\u001b[39mdtype\u001b[39m\u001b[39m\"\u001b[39m) \u001b[39mor\u001b[39;00m \u001b[39mnot\u001b[39;00m \u001b[39misinstance\u001b[39m(x\u001b[39m.\u001b[39mdtype, ExtensionDtype)\n\u001b[0;32m    497\u001b[0m         \u001b[39melse\u001b[39;00m x\u001b[39m.\u001b[39mcopy()\n\u001b[0;32m    498\u001b[0m         \u001b[39mfor\u001b[39;00m x \u001b[39min\u001b[39;00m arrays\n\u001b[0;32m    499\u001b[0m     ]\n\u001b[0;32m    500\u001b[0m     \u001b[39m# TODO: can we get rid of the dt64tz special case above?\u001b[39;00m\n\u001b[1;32m--> 502\u001b[0m \u001b[39mreturn\u001b[39;00m arrays_to_mgr(arrays, columns, index, dtype\u001b[39m=\u001b[39;49mdtype, typ\u001b[39m=\u001b[39;49mtyp, consolidate\u001b[39m=\u001b[39;49mcopy)\n",
      "File \u001b[1;32mc:\\Users\\dafs\\AppData\\Local\\Programs\\Python\\Python39\\lib\\site-packages\\pandas\\core\\internals\\construction.py:120\u001b[0m, in \u001b[0;36marrays_to_mgr\u001b[1;34m(arrays, columns, index, dtype, verify_integrity, typ, consolidate)\u001b[0m\n\u001b[0;32m    117\u001b[0m \u001b[39mif\u001b[39;00m verify_integrity:\n\u001b[0;32m    118\u001b[0m     \u001b[39m# figure out the index, if necessary\u001b[39;00m\n\u001b[0;32m    119\u001b[0m     \u001b[39mif\u001b[39;00m index \u001b[39mis\u001b[39;00m \u001b[39mNone\u001b[39;00m:\n\u001b[1;32m--> 120\u001b[0m         index \u001b[39m=\u001b[39m _extract_index(arrays)\n\u001b[0;32m    121\u001b[0m     \u001b[39melse\u001b[39;00m:\n\u001b[0;32m    122\u001b[0m         index \u001b[39m=\u001b[39m ensure_index(index)\n",
      "File \u001b[1;32mc:\\Users\\dafs\\AppData\\Local\\Programs\\Python\\Python39\\lib\\site-packages\\pandas\\core\\internals\\construction.py:664\u001b[0m, in \u001b[0;36m_extract_index\u001b[1;34m(data)\u001b[0m\n\u001b[0;32m    661\u001b[0m         \u001b[39mraise\u001b[39;00m \u001b[39mValueError\u001b[39;00m(\u001b[39m\"\u001b[39m\u001b[39mPer-column arrays must each be 1-dimensional\u001b[39m\u001b[39m\"\u001b[39m)\n\u001b[0;32m    663\u001b[0m \u001b[39mif\u001b[39;00m \u001b[39mnot\u001b[39;00m indexes \u001b[39mand\u001b[39;00m \u001b[39mnot\u001b[39;00m raw_lengths:\n\u001b[1;32m--> 664\u001b[0m     \u001b[39mraise\u001b[39;00m \u001b[39mValueError\u001b[39;00m(\u001b[39m\"\u001b[39m\u001b[39mIf using all scalar values, you must pass an index\u001b[39m\u001b[39m\"\u001b[39m)\n\u001b[0;32m    666\u001b[0m \u001b[39melif\u001b[39;00m have_series:\n\u001b[0;32m    667\u001b[0m     index \u001b[39m=\u001b[39m union_indexes(indexes)\n",
      "\u001b[1;31mValueError\u001b[0m: If using all scalar values, you must pass an index"
     ]
    }
   ],
   "source": [
    "for key in dct_response.keys():\n",
    "    nome_artista = key.split(\"+\")[0]\n",
    "    nome_musica = key.split(\"+\")[1]\n",
    "\n",
    "df = pd.DataFrame({\n",
    "    'Nome Artista': nome_artista,\n",
    "    'Nome da musica': nome_musica\n",
    "\n",
    "})"
   ]
  },
  {
   "cell_type": "code",
   "execution_count": null,
   "metadata": {},
   "outputs": [
    {
     "data": {
      "text/plain": [
       "dict_keys(['danceability', 'energy', 'key', 'loudness', 'mode', 'speechiness', 'acousticness', 'instrumentalness', 'liveness', 'valence', 'tempo', 'type', 'id', 'uri', 'track_href', 'analysis_url', 'duration_ms', 'time_signature'])"
      ]
     },
     "execution_count": 7,
     "metadata": {},
     "output_type": "execute_result"
    }
   ],
   "source": [
    "dct_response['BLACKPINK+Pink Venom'].keys()"
   ]
  },
  {
   "cell_type": "code",
   "execution_count": null,
   "metadata": {},
   "outputs": [
    {
     "data": {
      "text/html": [
       "<div>\n",
       "<style scoped>\n",
       "    .dataframe tbody tr th:only-of-type {\n",
       "        vertical-align: middle;\n",
       "    }\n",
       "\n",
       "    .dataframe tbody tr th {\n",
       "        vertical-align: top;\n",
       "    }\n",
       "\n",
       "    .dataframe thead th {\n",
       "        text-align: right;\n",
       "    }\n",
       "</style>\n",
       "<table border=\"1\" class=\"dataframe\">\n",
       "  <thead>\n",
       "    <tr style=\"text-align: right;\">\n",
       "      <th></th>\n",
       "      <th>artista</th>\n",
       "      <th>musica</th>\n",
       "      <th>dancabilidade</th>\n",
       "      <th>energia</th>\n",
       "      <th>chave</th>\n",
       "      <th>volume</th>\n",
       "      <th>presenca_palavras</th>\n",
       "      <th>acustica</th>\n",
       "      <th>instrumentalidade</th>\n",
       "      <th>ao_vivo</th>\n",
       "      <th>positividade</th>\n",
       "      <th>tempo</th>\n",
       "      <th>duracao_ms</th>\n",
       "    </tr>\n",
       "  </thead>\n",
       "  <tbody>\n",
       "    <tr>\n",
       "      <th>0</th>\n",
       "      <td>Bizarrap</td>\n",
       "      <td>Quevedo: Bzrp Music Sessions, Vol. 52</td>\n",
       "      <td>0.621</td>\n",
       "      <td>0.782</td>\n",
       "      <td>2</td>\n",
       "      <td>-5.548</td>\n",
       "      <td>0.044</td>\n",
       "      <td>0.0125</td>\n",
       "      <td>0.033</td>\n",
       "      <td>0.23</td>\n",
       "      <td>0.55</td>\n",
       "      <td>128.033</td>\n",
       "      <td>198938</td>\n",
       "    </tr>\n",
       "    <tr>\n",
       "      <th>1</th>\n",
       "      <td>Harry Styles</td>\n",
       "      <td>As It Was</td>\n",
       "      <td>0.52</td>\n",
       "      <td>0.731</td>\n",
       "      <td>6</td>\n",
       "      <td>-5.338</td>\n",
       "      <td>0.0557</td>\n",
       "      <td>0.342</td>\n",
       "      <td>0.00101</td>\n",
       "      <td>0.311</td>\n",
       "      <td>0.662</td>\n",
       "      <td>173.93</td>\n",
       "      <td>167303</td>\n",
       "    </tr>\n",
       "    <tr>\n",
       "      <th>2</th>\n",
       "      <td>Bad Bunny</td>\n",
       "      <td>Me Porto Bonito</td>\n",
       "      <td>0.911</td>\n",
       "      <td>0.712</td>\n",
       "      <td>1</td>\n",
       "      <td>-5.105</td>\n",
       "      <td>0.0817</td>\n",
       "      <td>0.0901</td>\n",
       "      <td>0.000027</td>\n",
       "      <td>0.0933</td>\n",
       "      <td>0.425</td>\n",
       "      <td>92.005</td>\n",
       "      <td>178567</td>\n",
       "    </tr>\n",
       "    <tr>\n",
       "      <th>3</th>\n",
       "      <td>Bad Bunny</td>\n",
       "      <td>Tití Me Preguntó</td>\n",
       "      <td>0.65</td>\n",
       "      <td>0.715</td>\n",
       "      <td>5</td>\n",
       "      <td>-5.198</td>\n",
       "      <td>0.253</td>\n",
       "      <td>0.0993</td>\n",
       "      <td>0.000291</td>\n",
       "      <td>0.126</td>\n",
       "      <td>0.187</td>\n",
       "      <td>106.672</td>\n",
       "      <td>243717</td>\n",
       "    </tr>\n",
       "    <tr>\n",
       "      <th>4</th>\n",
       "      <td>BLACKPINK</td>\n",
       "      <td>Pink Venom</td>\n",
       "      <td>0.798</td>\n",
       "      <td>0.697</td>\n",
       "      <td>0</td>\n",
       "      <td>-7.139</td>\n",
       "      <td>0.0891</td>\n",
       "      <td>0.0202</td>\n",
       "      <td>0</td>\n",
       "      <td>0.259</td>\n",
       "      <td>0.745</td>\n",
       "      <td>90.031</td>\n",
       "      <td>186964</td>\n",
       "    </tr>\n",
       "  </tbody>\n",
       "</table>\n",
       "</div>"
      ],
      "text/plain": [
       "        artista                                 musica dancabilidade energia  \\\n",
       "0      Bizarrap  Quevedo: Bzrp Music Sessions, Vol. 52         0.621   0.782   \n",
       "1  Harry Styles                              As It Was          0.52   0.731   \n",
       "2     Bad Bunny                        Me Porto Bonito         0.911   0.712   \n",
       "3     Bad Bunny                       Tití Me Preguntó          0.65   0.715   \n",
       "4     BLACKPINK                             Pink Venom         0.798   0.697   \n",
       "\n",
       "  chave volume presenca_palavras acustica instrumentalidade ao_vivo  \\\n",
       "0     2 -5.548             0.044   0.0125             0.033    0.23   \n",
       "1     6 -5.338            0.0557    0.342           0.00101   0.311   \n",
       "2     1 -5.105            0.0817   0.0901          0.000027  0.0933   \n",
       "3     5 -5.198             0.253   0.0993          0.000291   0.126   \n",
       "4     0 -7.139            0.0891   0.0202                 0   0.259   \n",
       "\n",
       "  positividade    tempo duracao_ms  \n",
       "0         0.55  128.033     198938  \n",
       "1        0.662   173.93     167303  \n",
       "2        0.425   92.005     178567  \n",
       "3        0.187  106.672     243717  \n",
       "4        0.745   90.031     186964  "
      ]
     },
     "execution_count": 44,
     "metadata": {},
     "output_type": "execute_result"
    }
   ],
   "source": [
    "import os\n",
    "df = pd.DataFrame(dct_response).T.reset_index()\n",
    "df[['artista', 'musica']] = df['index'].str.split('+', expand=True)\n",
    "df = df.drop(\"index\", axis='columns')\n",
    "df.columns\n",
    "df = df[['artista', 'musica', 'danceability', 'energy', 'key', 'loudness', 'mode',\n",
    "       'speechiness', 'acousticness', 'instrumentalness', 'liveness',\n",
    "       'valence', 'tempo', 'type', 'id', 'uri', 'track_href', 'analysis_url',\n",
    "       'duration_ms', 'time_signature']]\n",
    "\n",
    "df = df.drop([\"type\", \"uri\", \"track_href\", \"analysis_url\", \"time_signature\", \"id\", \"mode\"], axis='columns')\n",
    "\n",
    "df = df.rename(columns={\n",
    "       'artista': 'artista',\n",
    "       'musica': 'musica',\n",
    "       'danceability': 'dancabilidade',\n",
    "       'energy': 'energia', \n",
    "       'key':'chave',\n",
    "       'loudness': 'volume',\n",
    "       'speechiness': 'presenca_palavras',\n",
    "       'acousticness': 'acustica', \n",
    "       'instrumentalness': 'instrumentalidade',\n",
    "       'liveness' :'ao_vivo',\n",
    "       'valence': 'positividade',\n",
    "       'tempo': 'tempo',\n",
    "       'duration_ms': 'duracao_ms'\n",
    "})\n",
    "\n",
    "df.to_excel(r'{}\\base_musical.xlsx'.format(os.getcwd()), )\n",
    "\n",
    "df.head(10)"
   ]
  }
 ],
 "metadata": {
  "kernelspec": {
   "display_name": "Python 3.9.6 64-bit",
   "language": "python",
   "name": "python3"
  },
  "language_info": {
   "codemirror_mode": {
    "name": "ipython",
    "version": 3
   },
   "file_extension": ".py",
   "mimetype": "text/x-python",
   "name": "python",
   "nbconvert_exporter": "python",
   "pygments_lexer": "ipython3",
   "version": "3.9.6"
  },
  "orig_nbformat": 4,
  "vscode": {
   "interpreter": {
    "hash": "4825f21daf78d96b1f253c4ec269f97ba4fb06ea795022d76038c09dbf32dca1"
   }
  }
 },
 "nbformat": 4,
 "nbformat_minor": 2
}
