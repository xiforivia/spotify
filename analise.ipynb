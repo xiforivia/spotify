{
 "cells": [
  {
   "cell_type": "markdown",
   "metadata": {},
   "source": [
    "## Analise de medidas de variabilidade e medidas resumo"
   ]
  },
  {
   "cell_type": "code",
   "execution_count": 42,
   "metadata": {},
   "outputs": [],
   "source": [
    "import pandas as pd\n",
    "import matplotlib.pyplot as plt\n",
    "import matplotlib.gridspec as gridspec\n"
   ]
  },
  {
   "cell_type": "code",
   "execution_count": 43,
   "metadata": {},
   "outputs": [],
   "source": [
    "df = pd.read_excel(\"base_musical.xlsx\")\n",
    "df = df.drop(columns='Unnamed: 0')\n",
    "df = df.rename(columns={'tempo': 'BPM'})"
   ]
  },
  {
   "cell_type": "code",
   "execution_count": 44,
   "metadata": {},
   "outputs": [],
   "source": [
    "media = df.mean(numeric_only=True)\n",
    "mediana = df.median(numeric_only=True)\n",
    "variancia = df.var(numeric_only=True)\n",
    "dp = df.std(numeric_only=True)\n",
    "coeficiente_variacao = dp / media\n",
    "\n",
    "dfEstatisticas = df.describe()\n",
    "dfEstatisticas.loc['mediana'] = mediana\n",
    "dfEstatisticas.loc['variancia'] = variancia\n",
    "dfEstatisticas.loc['coeficiente_variacao'] = dfEstatisticas.loc['std'] / dfEstatisticas.loc['mean']"
   ]
  },
  {
   "cell_type": "code",
   "execution_count": 45,
   "metadata": {},
   "outputs": [
    {
     "data": {
      "text/html": [
       "<div>\n",
       "<style scoped>\n",
       "    .dataframe tbody tr th:only-of-type {\n",
       "        vertical-align: middle;\n",
       "    }\n",
       "\n",
       "    .dataframe tbody tr th {\n",
       "        vertical-align: top;\n",
       "    }\n",
       "\n",
       "    .dataframe thead th {\n",
       "        text-align: right;\n",
       "    }\n",
       "</style>\n",
       "<table border=\"1\" class=\"dataframe\">\n",
       "  <thead>\n",
       "    <tr style=\"text-align: right;\">\n",
       "      <th></th>\n",
       "      <th>dancabilidade</th>\n",
       "      <th>energia</th>\n",
       "      <th>chave</th>\n",
       "      <th>volume</th>\n",
       "      <th>presenca_palavras</th>\n",
       "      <th>acustica</th>\n",
       "      <th>instrumentalidade</th>\n",
       "      <th>ao_vivo</th>\n",
       "      <th>positividade</th>\n",
       "      <th>BPM</th>\n",
       "      <th>duracao_ms</th>\n",
       "    </tr>\n",
       "  </thead>\n",
       "  <tbody>\n",
       "    <tr>\n",
       "      <th>count</th>\n",
       "      <td>50.000000</td>\n",
       "      <td>50.000000</td>\n",
       "      <td>50.000000</td>\n",
       "      <td>50.000000</td>\n",
       "      <td>50.000000</td>\n",
       "      <td>50.000000</td>\n",
       "      <td>50.000000</td>\n",
       "      <td>50.000000</td>\n",
       "      <td>50.000000</td>\n",
       "      <td>50.000000</td>\n",
       "      <td>5.000000e+01</td>\n",
       "    </tr>\n",
       "    <tr>\n",
       "      <th>mean</th>\n",
       "      <td>0.700620</td>\n",
       "      <td>0.685060</td>\n",
       "      <td>4.960000</td>\n",
       "      <td>-5.799960</td>\n",
       "      <td>0.096226</td>\n",
       "      <td>0.220353</td>\n",
       "      <td>0.001327</td>\n",
       "      <td>0.189840</td>\n",
       "      <td>0.547900</td>\n",
       "      <td>127.743580</td>\n",
       "      <td>1.945456e+05</td>\n",
       "    </tr>\n",
       "    <tr>\n",
       "      <th>std</th>\n",
       "      <td>0.139967</td>\n",
       "      <td>0.134677</td>\n",
       "      <td>4.060562</td>\n",
       "      <td>2.025294</td>\n",
       "      <td>0.095957</td>\n",
       "      <td>0.239561</td>\n",
       "      <td>0.005335</td>\n",
       "      <td>0.138250</td>\n",
       "      <td>0.233509</td>\n",
       "      <td>29.259773</td>\n",
       "      <td>3.969129e+04</td>\n",
       "    </tr>\n",
       "    <tr>\n",
       "      <th>min</th>\n",
       "      <td>0.346000</td>\n",
       "      <td>0.317000</td>\n",
       "      <td>0.000000</td>\n",
       "      <td>-13.123000</td>\n",
       "      <td>0.030900</td>\n",
       "      <td>0.000235</td>\n",
       "      <td>0.000000</td>\n",
       "      <td>0.052600</td>\n",
       "      <td>0.139000</td>\n",
       "      <td>79.928000</td>\n",
       "      <td>9.739300e+04</td>\n",
       "    </tr>\n",
       "    <tr>\n",
       "      <th>25%</th>\n",
       "      <td>0.614250</td>\n",
       "      <td>0.599750</td>\n",
       "      <td>1.000000</td>\n",
       "      <td>-7.044750</td>\n",
       "      <td>0.043025</td>\n",
       "      <td>0.041100</td>\n",
       "      <td>0.000000</td>\n",
       "      <td>0.091650</td>\n",
       "      <td>0.374000</td>\n",
       "      <td>108.522500</td>\n",
       "      <td>1.712915e+05</td>\n",
       "    </tr>\n",
       "    <tr>\n",
       "      <th>50%</th>\n",
       "      <td>0.704000</td>\n",
       "      <td>0.697000</td>\n",
       "      <td>5.000000</td>\n",
       "      <td>-5.538500</td>\n",
       "      <td>0.053600</td>\n",
       "      <td>0.109000</td>\n",
       "      <td>0.000004</td>\n",
       "      <td>0.124000</td>\n",
       "      <td>0.527500</td>\n",
       "      <td>124.516500</td>\n",
       "      <td>1.894510e+05</td>\n",
       "    </tr>\n",
       "    <tr>\n",
       "      <th>75%</th>\n",
       "      <td>0.800250</td>\n",
       "      <td>0.762000</td>\n",
       "      <td>9.000000</td>\n",
       "      <td>-4.668250</td>\n",
       "      <td>0.093450</td>\n",
       "      <td>0.298000</td>\n",
       "      <td>0.000060</td>\n",
       "      <td>0.254750</td>\n",
       "      <td>0.722000</td>\n",
       "      <td>138.402750</td>\n",
       "      <td>2.253130e+05</td>\n",
       "    </tr>\n",
       "    <tr>\n",
       "      <th>max</th>\n",
       "      <td>0.951000</td>\n",
       "      <td>0.965000</td>\n",
       "      <td>11.000000</td>\n",
       "      <td>-1.215000</td>\n",
       "      <td>0.448000</td>\n",
       "      <td>0.891000</td>\n",
       "      <td>0.033000</td>\n",
       "      <td>0.658000</td>\n",
       "      <td>0.972000</td>\n",
       "      <td>202.466000</td>\n",
       "      <td>2.989330e+05</td>\n",
       "    </tr>\n",
       "    <tr>\n",
       "      <th>mediana</th>\n",
       "      <td>0.704000</td>\n",
       "      <td>0.697000</td>\n",
       "      <td>5.000000</td>\n",
       "      <td>-5.538500</td>\n",
       "      <td>0.053600</td>\n",
       "      <td>0.109000</td>\n",
       "      <td>0.000004</td>\n",
       "      <td>0.124000</td>\n",
       "      <td>0.527500</td>\n",
       "      <td>124.516500</td>\n",
       "      <td>1.894510e+05</td>\n",
       "    </tr>\n",
       "    <tr>\n",
       "      <th>variancia</th>\n",
       "      <td>0.019591</td>\n",
       "      <td>0.018138</td>\n",
       "      <td>16.488163</td>\n",
       "      <td>4.101814</td>\n",
       "      <td>0.009208</td>\n",
       "      <td>0.057390</td>\n",
       "      <td>0.000028</td>\n",
       "      <td>0.019113</td>\n",
       "      <td>0.054527</td>\n",
       "      <td>856.134328</td>\n",
       "      <td>1.575398e+09</td>\n",
       "    </tr>\n",
       "    <tr>\n",
       "      <th>coeficiente_variacao</th>\n",
       "      <td>0.199776</td>\n",
       "      <td>0.196591</td>\n",
       "      <td>0.818662</td>\n",
       "      <td>-0.349191</td>\n",
       "      <td>0.997200</td>\n",
       "      <td>1.087172</td>\n",
       "      <td>4.019377</td>\n",
       "      <td>0.728247</td>\n",
       "      <td>0.426189</td>\n",
       "      <td>0.229051</td>\n",
       "      <td>2.040205e-01</td>\n",
       "    </tr>\n",
       "  </tbody>\n",
       "</table>\n",
       "</div>"
      ],
      "text/plain": [
       "                      dancabilidade    energia      chave     volume  \\\n",
       "count                     50.000000  50.000000  50.000000  50.000000   \n",
       "mean                       0.700620   0.685060   4.960000  -5.799960   \n",
       "std                        0.139967   0.134677   4.060562   2.025294   \n",
       "min                        0.346000   0.317000   0.000000 -13.123000   \n",
       "25%                        0.614250   0.599750   1.000000  -7.044750   \n",
       "50%                        0.704000   0.697000   5.000000  -5.538500   \n",
       "75%                        0.800250   0.762000   9.000000  -4.668250   \n",
       "max                        0.951000   0.965000  11.000000  -1.215000   \n",
       "mediana                    0.704000   0.697000   5.000000  -5.538500   \n",
       "variancia                  0.019591   0.018138  16.488163   4.101814   \n",
       "coeficiente_variacao       0.199776   0.196591   0.818662  -0.349191   \n",
       "\n",
       "                      presenca_palavras   acustica  instrumentalidade  \\\n",
       "count                         50.000000  50.000000          50.000000   \n",
       "mean                           0.096226   0.220353           0.001327   \n",
       "std                            0.095957   0.239561           0.005335   \n",
       "min                            0.030900   0.000235           0.000000   \n",
       "25%                            0.043025   0.041100           0.000000   \n",
       "50%                            0.053600   0.109000           0.000004   \n",
       "75%                            0.093450   0.298000           0.000060   \n",
       "max                            0.448000   0.891000           0.033000   \n",
       "mediana                        0.053600   0.109000           0.000004   \n",
       "variancia                      0.009208   0.057390           0.000028   \n",
       "coeficiente_variacao           0.997200   1.087172           4.019377   \n",
       "\n",
       "                        ao_vivo  positividade         BPM    duracao_ms  \n",
       "count                 50.000000     50.000000   50.000000  5.000000e+01  \n",
       "mean                   0.189840      0.547900  127.743580  1.945456e+05  \n",
       "std                    0.138250      0.233509   29.259773  3.969129e+04  \n",
       "min                    0.052600      0.139000   79.928000  9.739300e+04  \n",
       "25%                    0.091650      0.374000  108.522500  1.712915e+05  \n",
       "50%                    0.124000      0.527500  124.516500  1.894510e+05  \n",
       "75%                    0.254750      0.722000  138.402750  2.253130e+05  \n",
       "max                    0.658000      0.972000  202.466000  2.989330e+05  \n",
       "mediana                0.124000      0.527500  124.516500  1.894510e+05  \n",
       "variancia              0.019113      0.054527  856.134328  1.575398e+09  \n",
       "coeficiente_variacao   0.728247      0.426189    0.229051  2.040205e-01  "
      ]
     },
     "execution_count": 45,
     "metadata": {},
     "output_type": "execute_result"
    }
   ],
   "source": [
    "dfEstatisticas"
   ]
  },
  {
   "cell_type": "markdown",
   "metadata": {},
   "source": [
    "## Gráficos"
   ]
  },
  {
   "cell_type": "code",
   "execution_count": 46,
   "metadata": {},
   "outputs": [
    {
     "data": {
      "text/plain": [
       "array([[<AxesSubplot:title={'center':'dancabilidade'}>,\n",
       "        <AxesSubplot:title={'center':'energia'}>,\n",
       "        <AxesSubplot:title={'center':'chave'}>],\n",
       "       [<AxesSubplot:title={'center':'volume'}>,\n",
       "        <AxesSubplot:title={'center':'presenca_palavras'}>,\n",
       "        <AxesSubplot:title={'center':'acustica'}>],\n",
       "       [<AxesSubplot:title={'center':'instrumentalidade'}>,\n",
       "        <AxesSubplot:title={'center':'ao_vivo'}>,\n",
       "        <AxesSubplot:title={'center':'positividade'}>],\n",
       "       [<AxesSubplot:title={'center':'BPM'}>,\n",
       "        <AxesSubplot:title={'center':'duracao_ms'}>, <AxesSubplot:>]],\n",
       "      dtype=object)"
      ]
     },
     "execution_count": 46,
     "metadata": {},
     "output_type": "execute_result"
    },
    {
     "data": {
      "image/png": "[encoded data removed]",
      "text/plain": [
       "<Figure size 432x288 with 12 Axes>"
      ]
     },
     "metadata": {
      "needs_background": "light"
     },
     "output_type": "display_data"
    }
   ],
   "source": [
    "df.hist() "
   ]
  },
  {
   "cell_type": "code",
   "execution_count": 47,
   "metadata": {},
   "outputs": [
    {
     "data": {
      "text/plain": [
       "<AxesSubplot:>"
      ]
     },
     "execution_count": 47,
     "metadata": {},
     "output_type": "execute_result"
    },
    {
     "data": {
      "image/png": "[encoded data removed]",
      "text/plain": [
       "<Figure size 432x288 with 1 Axes>"
      ]
     },
     "metadata": {
      "needs_background": "light"
     },
     "output_type": "display_data"
    }
   ],
   "source": [
    "df['dancabilidade'].plot(kind = 'box')"
   ]
  },
  {
   "cell_type": "code",
   "execution_count": 53,
   "metadata": {},
   "outputs": [
    {
     "data": {
      "image/png": "[encoded data removed]",
      "text/plain": [
       "<Figure size 432x288 with 1 Axes>"
      ]
     },
     "metadata": {
      "needs_background": "light"
     },
     "output_type": "display_data"
    }
   ],
   "source": [
    "plt.hist(df['dancabilidade'], rwidth=0.9, color='red', alpha=0.7, edgecolor='black', )\n",
    "plt.xlabel('Dançabilidade')\n",
    "plt.ylabel('Frequência Absoluta')\n",
    "# plt.subplots(figsize =(10, 7))\n",
    "plt.show()"
   ]
  },
  {
   "cell_type": "code",
   "execution_count": 54,
   "metadata": {},
   "outputs": [
    {
     "data": {
      "image/png": "[encoded data removed]",
      "text/plain": [
       "<Figure size 597.6x842.4 with 5 Axes>"
      ]
     },
     "metadata": {
      "needs_background": "light"
     },
     "output_type": "display_data"
    }
   ],
   "source": [
    "fig = plt.gcf()\n",
    "fig.set_size_inches(8.3,11.7)\n",
    "plt.rcParams['xtick.labelsize']=12\n",
    "plt.rcParams['ytick.labelsize']=12\n",
    "plt.rcParams['axes.labelsize']=12\n",
    "fig.text(\n",
    "    x=0.5,\n",
    "    y=0.91,\n",
    "    s='Teste',\n",
    "    fontsize = 18,\n",
    "    horizontalalignment='center',\n",
    "    color='#152747')\n",
    "gs = gridspec.GridSpec(3, 2, hspace=0.5,wspace=0.25)\n",
    "#SIN\n",
    "plt.subplot(gs[0, :])\n",
    "plt.hist(df['dancabilidade'], rwidth=0.9, color='red', alpha=0.7, edgecolor='black')\n",
    "plt.title(\"Dançabilidade\")\n",
    "# plt.ylabel('Carga(GW)')\n",
    "# plt.grid(True)\n",
    "# plt.legend(loc='upper center', fontsize=11)\n",
    "\n",
    "# plt.annotate(\n",
    "#     'teste',\n",
    "#     xy=(mes,new_sin_load),\n",
    "#     color='#143c5a',\n",
    "#     fontsize = 10,\n",
    "#     xytext=(0,-20),\n",
    "#     textcoords='offset points'\n",
    "# )\n",
    "# for i, row in last_sin_load['antiga'].iterrows():\n",
    "#     plt.annotate(\n",
    "#         str(row['CARGA ANTIGA']),\n",
    "#         xy=(row['DATA'],row['CARGA ANTIGA']),\n",
    "#         color='#2fb3c3',\n",
    "#         fontsize = 10,\n",
    "#         xytext=(0,10),\n",
    "#         textcoords='offset points'\n",
    "#     )\n",
    "\n",
    "\n",
    "\n",
    "plt.subplot(gs[1,0])\n",
    "plt.hist(df['volume'], edgecolor='black')\n",
    "plt.title('Volume')\n",
    "\n",
    "plt.subplot(gs[1,1])\n",
    "plt.hist(df['chave'], edgecolor='black')\n",
    "plt.title('Chave')\n",
    "\n",
    "\n",
    "plt.subplot(gs[2,0])\n",
    "plt.hist(df['presenca_palavras'], edgecolor='black')\n",
    "plt.title('Presença Palavras')\n",
    "\n",
    "plt.subplot(gs[2,1])\n",
    "plt.hist(df['acustica'], edgecolor='black')\n",
    "plt.title('Acústica')\n",
    "\n",
    "\n",
    "\n",
    "# plt.savefig('graficos.png', format='png')\n",
    "plt.show()\n",
    "\n",
    "\n"
   ]
  },
  {
   "cell_type": "code",
   "execution_count": 50,
   "metadata": {},
   "outputs": [],
   "source": [
    "import numpy as np\n",
    "p25, p50, p75 = np.percentile(df['dancabilidade'], [25, 50, 75])"
   ]
  },
  {
   "cell_type": "code",
   "execution_count": 52,
   "metadata": {},
   "outputs": [
    {
     "data": {
      "image/png": "[encoded data removed]",
      "text/plain": [
       "<Figure size 720x504 with 1 Axes>"
      ]
     },
     "metadata": {
      "needs_background": "light"
     },
     "output_type": "display_data"
    }
   ],
   "source": [
    "# Creating dataset\n",
    "data = [df['dancabilidade'], df['energia'], df['presenca_palavras'], df['acustica']]\n",
    "\n",
    "fig = plt.figure(figsize =(10, 7))\n",
    " \n",
    "# Creating axes instance\n",
    "ax = fig.add_axes([0, 0, 1, 1])\n",
    " \n",
    "# Creating plot\n",
    "bp = ax.boxplot(data)\n",
    " \n",
    "# show plot\n",
    "plt.show()"
   ]
  },
  {
   "cell_type": "code",
   "execution_count": null,
   "metadata": {},
   "outputs": [],
   "source": []
  }
 ],
 "metadata": {
  "kernelspec": {
   "display_name": "Python 3.10.1 64-bit",
   "language": "python",
   "name": "python3"
  },
  "language_info": {
   "codemirror_mode": {
    "name": "ipython",
    "version": 3
   },
   "file_extension": ".py",
   "mimetype": "text/x-python",
   "name": "python",
   "nbconvert_exporter": "python",
   "pygments_lexer": "ipython3",
   "version": "3.10.1"
  },
  "orig_nbformat": 4,
  "vscode": {
   "interpreter": {
    "hash": "1f7ceab4d0bca3151e4120251a0c48499526fea9553df689f40e975f0251915c"
   }
  }
 },
 "nbformat": 4,
 "nbformat_minor": 2
}
