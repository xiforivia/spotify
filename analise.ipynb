{
 "cells": [
  {
   "cell_type": "markdown",
   "metadata": {},
   "source": [
    "## Analise de medidas de variabilidade e medidas resumo"
   ]
  },
  {
   "cell_type": "code",
   "execution_count": 24,
   "metadata": {},
   "outputs": [],
   "source": [
    "import pandas as pd\n",
    "import matplotlib.pyplot as plt\n",
    "import matplotlib.gridspec as gridspec\n"
   ]
  },
  {
   "cell_type": "code",
   "execution_count": 25,
   "metadata": {},
   "outputs": [],
   "source": [
    "df = pd.read_excel(\"databaseNovo.xlsx\")\n",
    "df = df.drop(columns='Unnamed: 0')\n",
    "df = df.rename(columns={'tempo': 'BPM'})\n",
    "df = df.iloc[0:300]\n"
   ]
  },
  {
   "cell_type": "code",
   "execution_count": 26,
   "metadata": {},
   "outputs": [
    {
     "data": {
      "text/html": [
       "<div>\n",
       "<style scoped>\n",
       "    .dataframe tbody tr th:only-of-type {\n",
       "        vertical-align: middle;\n",
       "    }\n",
       "\n",
       "    .dataframe tbody tr th {\n",
       "        vertical-align: top;\n",
       "    }\n",
       "\n",
       "    .dataframe thead th {\n",
       "        text-align: right;\n",
       "    }\n",
       "</style>\n",
       "<table border=\"1\" class=\"dataframe\">\n",
       "  <thead>\n",
       "    <tr style=\"text-align: right;\">\n",
       "      <th></th>\n",
       "      <th>artista</th>\n",
       "      <th>musica</th>\n",
       "      <th>dancabilidade</th>\n",
       "      <th>energia</th>\n",
       "      <th>tonalidade</th>\n",
       "      <th>volume</th>\n",
       "      <th>presenca_palavras</th>\n",
       "      <th>acustica</th>\n",
       "      <th>instrumentalidade</th>\n",
       "      <th>ao_vivo</th>\n",
       "      <th>positividade</th>\n",
       "      <th>BPM</th>\n",
       "      <th>duracao_ms</th>\n",
       "      <th>genero</th>\n",
       "      <th>nacionalidade</th>\n",
       "    </tr>\n",
       "  </thead>\n",
       "  <tbody>\n",
       "    <tr>\n",
       "      <th>0</th>\n",
       "      <td>Ed Sheeran</td>\n",
       "      <td>Shape of You</td>\n",
       "      <td>0.825</td>\n",
       "      <td>0.652</td>\n",
       "      <td>1</td>\n",
       "      <td>-3.183</td>\n",
       "      <td>0.0802</td>\n",
       "      <td>0.58100</td>\n",
       "      <td>0.000000</td>\n",
       "      <td>0.0931</td>\n",
       "      <td>0.9310</td>\n",
       "      <td>95.977</td>\n",
       "      <td>233713</td>\n",
       "      <td>Pop</td>\n",
       "      <td>Reino Unido</td>\n",
       "    </tr>\n",
       "    <tr>\n",
       "      <th>1</th>\n",
       "      <td>The Weeknd</td>\n",
       "      <td>Blinding Lights</td>\n",
       "      <td>0.514</td>\n",
       "      <td>0.730</td>\n",
       "      <td>1</td>\n",
       "      <td>-5.934</td>\n",
       "      <td>0.0598</td>\n",
       "      <td>0.00146</td>\n",
       "      <td>0.000095</td>\n",
       "      <td>0.0897</td>\n",
       "      <td>0.3340</td>\n",
       "      <td>171.005</td>\n",
       "      <td>200040</td>\n",
       "      <td>Pop</td>\n",
       "      <td>Canadá</td>\n",
       "    </tr>\n",
       "    <tr>\n",
       "      <th>2</th>\n",
       "      <td>Tones And I</td>\n",
       "      <td>Dance Monkey</td>\n",
       "      <td>0.824</td>\n",
       "      <td>0.588</td>\n",
       "      <td>6</td>\n",
       "      <td>-6.400</td>\n",
       "      <td>0.0924</td>\n",
       "      <td>0.69200</td>\n",
       "      <td>0.000104</td>\n",
       "      <td>0.1490</td>\n",
       "      <td>0.5130</td>\n",
       "      <td>98.027</td>\n",
       "      <td>209438</td>\n",
       "      <td>Alternativo</td>\n",
       "      <td>Austrália</td>\n",
       "    </tr>\n",
       "    <tr>\n",
       "      <th>3</th>\n",
       "      <td>Post Malone, 21 Savage</td>\n",
       "      <td>rockstar (feat. 21 Savage)</td>\n",
       "      <td>0.585</td>\n",
       "      <td>0.520</td>\n",
       "      <td>5</td>\n",
       "      <td>-6.136</td>\n",
       "      <td>0.0712</td>\n",
       "      <td>0.12400</td>\n",
       "      <td>0.000070</td>\n",
       "      <td>0.1310</td>\n",
       "      <td>0.1290</td>\n",
       "      <td>159.801</td>\n",
       "      <td>218147</td>\n",
       "      <td>Hip-Hop/Rap</td>\n",
       "      <td>Estados Unidos</td>\n",
       "    </tr>\n",
       "    <tr>\n",
       "      <th>4</th>\n",
       "      <td>Lewis Capaldi</td>\n",
       "      <td>Someone You Loved</td>\n",
       "      <td>0.501</td>\n",
       "      <td>0.405</td>\n",
       "      <td>1</td>\n",
       "      <td>-5.679</td>\n",
       "      <td>0.0319</td>\n",
       "      <td>0.75100</td>\n",
       "      <td>0.000000</td>\n",
       "      <td>0.1050</td>\n",
       "      <td>0.4460</td>\n",
       "      <td>109.891</td>\n",
       "      <td>182161</td>\n",
       "      <td>Alternativo</td>\n",
       "      <td>Reino Unido</td>\n",
       "    </tr>\n",
       "    <tr>\n",
       "      <th>...</th>\n",
       "      <td>...</td>\n",
       "      <td>...</td>\n",
       "      <td>...</td>\n",
       "      <td>...</td>\n",
       "      <td>...</td>\n",
       "      <td>...</td>\n",
       "      <td>...</td>\n",
       "      <td>...</td>\n",
       "      <td>...</td>\n",
       "      <td>...</td>\n",
       "      <td>...</td>\n",
       "      <td>...</td>\n",
       "      <td>...</td>\n",
       "      <td>...</td>\n",
       "      <td>...</td>\n",
       "    </tr>\n",
       "    <tr>\n",
       "      <th>295</th>\n",
       "      <td>MKTO</td>\n",
       "      <td>Classic</td>\n",
       "      <td>0.720</td>\n",
       "      <td>0.791</td>\n",
       "      <td>1</td>\n",
       "      <td>-4.689</td>\n",
       "      <td>0.1240</td>\n",
       "      <td>0.03840</td>\n",
       "      <td>0.000000</td>\n",
       "      <td>0.1570</td>\n",
       "      <td>0.7560</td>\n",
       "      <td>102.071</td>\n",
       "      <td>175427</td>\n",
       "      <td>Pop</td>\n",
       "      <td>Estados Unidos</td>\n",
       "    </tr>\n",
       "    <tr>\n",
       "      <th>296</th>\n",
       "      <td>Bad Bunny</td>\n",
       "      <td>Yonaguni</td>\n",
       "      <td>0.644</td>\n",
       "      <td>0.648</td>\n",
       "      <td>1</td>\n",
       "      <td>-4.601</td>\n",
       "      <td>0.1180</td>\n",
       "      <td>0.27600</td>\n",
       "      <td>0.000000</td>\n",
       "      <td>0.1350</td>\n",
       "      <td>0.4400</td>\n",
       "      <td>179.951</td>\n",
       "      <td>206710</td>\n",
       "      <td>Música Latina Urbana</td>\n",
       "      <td>Porto Rico</td>\n",
       "    </tr>\n",
       "    <tr>\n",
       "      <th>297</th>\n",
       "      <td>Robin Schulz, Francesco Yates</td>\n",
       "      <td>Sugar (feat. Francesco Yates)</td>\n",
       "      <td>0.636</td>\n",
       "      <td>0.815</td>\n",
       "      <td>5</td>\n",
       "      <td>-5.098</td>\n",
       "      <td>0.0581</td>\n",
       "      <td>0.01850</td>\n",
       "      <td>0.000000</td>\n",
       "      <td>0.1630</td>\n",
       "      <td>0.6360</td>\n",
       "      <td>123.063</td>\n",
       "      <td>219043</td>\n",
       "      <td>Dance</td>\n",
       "      <td>Alemanha</td>\n",
       "    </tr>\n",
       "    <tr>\n",
       "      <th>298</th>\n",
       "      <td>Tate McRae</td>\n",
       "      <td>you broke me first</td>\n",
       "      <td>0.667</td>\n",
       "      <td>0.373</td>\n",
       "      <td>4</td>\n",
       "      <td>-9.389</td>\n",
       "      <td>0.0500</td>\n",
       "      <td>0.78500</td>\n",
       "      <td>0.000000</td>\n",
       "      <td>0.0906</td>\n",
       "      <td>0.0823</td>\n",
       "      <td>124.148</td>\n",
       "      <td>169266</td>\n",
       "      <td>Pop</td>\n",
       "      <td>Canadá</td>\n",
       "    </tr>\n",
       "    <tr>\n",
       "      <th>299</th>\n",
       "      <td>Doja Cat</td>\n",
       "      <td>Say So</td>\n",
       "      <td>0.787</td>\n",
       "      <td>0.673</td>\n",
       "      <td>11</td>\n",
       "      <td>-4.583</td>\n",
       "      <td>0.1590</td>\n",
       "      <td>0.26400</td>\n",
       "      <td>0.000003</td>\n",
       "      <td>0.0904</td>\n",
       "      <td>0.7790</td>\n",
       "      <td>110.962</td>\n",
       "      <td>237893</td>\n",
       "      <td>R&amp;B/soul</td>\n",
       "      <td>Estados Unidos</td>\n",
       "    </tr>\n",
       "  </tbody>\n",
       "</table>\n",
       "<p>300 rows × 15 columns</p>\n",
       "</div>"
      ],
      "text/plain": [
       "                           artista                         musica  \\\n",
       "0                       Ed Sheeran                   Shape of You   \n",
       "1                       The Weeknd                Blinding Lights   \n",
       "2                      Tones And I                   Dance Monkey   \n",
       "3           Post Malone, 21 Savage     rockstar (feat. 21 Savage)   \n",
       "4                    Lewis Capaldi              Someone You Loved   \n",
       "..                             ...                            ...   \n",
       "295                           MKTO                        Classic   \n",
       "296                      Bad Bunny                       Yonaguni   \n",
       "297  Robin Schulz, Francesco Yates  Sugar (feat. Francesco Yates)   \n",
       "298                     Tate McRae             you broke me first   \n",
       "299                       Doja Cat                         Say So   \n",
       "\n",
       "     dancabilidade  energia  tonalidade  volume  presenca_palavras  acustica  \\\n",
       "0            0.825    0.652           1  -3.183             0.0802   0.58100   \n",
       "1            0.514    0.730           1  -5.934             0.0598   0.00146   \n",
       "2            0.824    0.588           6  -6.400             0.0924   0.69200   \n",
       "3            0.585    0.520           5  -6.136             0.0712   0.12400   \n",
       "4            0.501    0.405           1  -5.679             0.0319   0.75100   \n",
       "..             ...      ...         ...     ...                ...       ...   \n",
       "295          0.720    0.791           1  -4.689             0.1240   0.03840   \n",
       "296          0.644    0.648           1  -4.601             0.1180   0.27600   \n",
       "297          0.636    0.815           5  -5.098             0.0581   0.01850   \n",
       "298          0.667    0.373           4  -9.389             0.0500   0.78500   \n",
       "299          0.787    0.673          11  -4.583             0.1590   0.26400   \n",
       "\n",
       "     instrumentalidade  ao_vivo  positividade      BPM  duracao_ms  \\\n",
       "0             0.000000   0.0931        0.9310   95.977      233713   \n",
       "1             0.000095   0.0897        0.3340  171.005      200040   \n",
       "2             0.000104   0.1490        0.5130   98.027      209438   \n",
       "3             0.000070   0.1310        0.1290  159.801      218147   \n",
       "4             0.000000   0.1050        0.4460  109.891      182161   \n",
       "..                 ...      ...           ...      ...         ...   \n",
       "295           0.000000   0.1570        0.7560  102.071      175427   \n",
       "296           0.000000   0.1350        0.4400  179.951      206710   \n",
       "297           0.000000   0.1630        0.6360  123.063      219043   \n",
       "298           0.000000   0.0906        0.0823  124.148      169266   \n",
       "299           0.000003   0.0904        0.7790  110.962      237893   \n",
       "\n",
       "                   genero   nacionalidade  \n",
       "0                     Pop     Reino Unido  \n",
       "1                     Pop          Canadá  \n",
       "2             Alternativo       Austrália  \n",
       "3             Hip-Hop/Rap  Estados Unidos  \n",
       "4             Alternativo     Reino Unido  \n",
       "..                    ...             ...  \n",
       "295                   Pop  Estados Unidos  \n",
       "296  Música Latina Urbana      Porto Rico  \n",
       "297                 Dance        Alemanha  \n",
       "298                   Pop          Canadá  \n",
       "299              R&B/soul  Estados Unidos  \n",
       "\n",
       "[300 rows x 15 columns]"
      ]
     },
     "execution_count": 26,
     "metadata": {},
     "output_type": "execute_result"
    }
   ],
   "source": [
    "df"
   ]
  },
  {
   "cell_type": "code",
   "execution_count": 27,
   "metadata": {},
   "outputs": [],
   "source": [
    "dfTeste = df.copy()\n",
    "dfTeste.loc[df['nacionalidade'] == 'Estados Unidos', 'nacionalidade'] = 1\n",
    "dfTeste.loc[df['nacionalidade'] != 'Estados Unidos', 'nacionalidade'] = 0"
   ]
  },
  {
   "cell_type": "code",
   "execution_count": 19,
   "metadata": {},
   "outputs": [],
   "source": [
    "# df = dfTeste.copy()"
   ]
  },
  {
   "cell_type": "code",
   "execution_count": 14,
   "metadata": {},
   "outputs": [],
   "source": [
    "def lista_simples(lista):\n",
    "    if isinstance(lista, list):\n",
    "        return [sub_elem for elem in lista for sub_elem in lista_simples(elem)]\n",
    "    else:\n",
    "        return [lista]\n",
    "\n",
    "def contar(variavel, df):\n",
    "    lista_artistas = list(df[variavel])\n",
    "    artista2 = []\n",
    "    lista_certa = []\n",
    "    for artista in lista_artistas:\n",
    "        if type(artista) == float:\n",
    "            continue\n",
    "        if \",\" in artista:\n",
    "            artista2.append(artista.split(\", \"))\n",
    "        else:\n",
    "            lista_certa.append(artista)\n",
    "\n",
    "    artistas2 = lista_simples(artista2)\n",
    "\n",
    "    for elem in artistas2:\n",
    "        lista_certa.append(elem)\n",
    "    dctArtistas = {}\n",
    "    for artista in lista_certa:\n",
    "        dctArtistas.update({artista: lista_certa.count(artista)})\n",
    "    return dctArtistas  "
   ]
  },
  {
   "cell_type": "code",
   "execution_count": 15,
   "metadata": {},
   "outputs": [
    {
     "data": {
      "text/plain": [
       "{'Pop': 126,\n",
       " 'Alternativo': 34,\n",
       " 'Hip-Hop/Rap': 57,\n",
       " 'Trilha Sonora': 6,\n",
       " 'Dance': 26,\n",
       " 'R&B/soul': 14,\n",
       " 'Rock': 11,\n",
       " 'House': 1,\n",
       " 'Eletrônica': 2,\n",
       " 'Pop em espanhol': 4,\n",
       " 'Música Latina': 2,\n",
       " 'K-pop': 1,\n",
       " 'Country': 1,\n",
       " 'Hard rock': 6,\n",
       " 'Cantores/Compositores': 1,\n",
       " 'Música Latina Urbana': 7,\n",
       " 'Indie pop': 1}"
      ]
     },
     "execution_count": 15,
     "metadata": {},
     "output_type": "execute_result"
    }
   ],
   "source": [
    "dctContar = contar('genero', df)\n",
    "dctContar"
   ]
  },
  {
   "cell_type": "code",
   "execution_count": 16,
   "metadata": {},
   "outputs": [
    {
     "data": {
      "text/plain": [
       "{'Reino Unido': 60,\n",
       " 'Canadá': 23,\n",
       " 'Austrália': 11,\n",
       " 'Estados Unidos': 168,\n",
       " 'Irlanda': 1,\n",
       " 'Suécia': 5,\n",
       " 'França': 3,\n",
       " 'Porto Rico': 9,\n",
       " 'Marrocos': 1,\n",
       " 'Coréia do Sul': 1,\n",
       " 'Dinamarca': 1,\n",
       " 'Alemanha': 3,\n",
       " 'Jamaica': 1,\n",
       " 'Venezuela': 1,\n",
       " 'Colômbia': 4,\n",
       " 'Bélgica': 1,\n",
       " 'Noruega': 1,\n",
       " 'Singapura': 1,\n",
       " 'Lituânia': 1,\n",
       " 'Países Baixos': 2,\n",
       " 'Itália': 1,\n",
       " 'Kosovo': 1}"
      ]
     },
     "execution_count": 16,
     "metadata": {},
     "output_type": "execute_result"
    }
   ],
   "source": [
    "dctContar = contar('nacionalidade', df)\n",
    "dctContar"
   ]
  },
  {
   "cell_type": "code",
   "execution_count": 17,
   "metadata": {},
   "outputs": [
    {
     "name": "stderr",
     "output_type": "stream",
     "text": [
      "C:\\Users\\julia\\AppData\\Local\\Temp\\ipykernel_16120\\4254232757.py:4: SettingWithCopyWarning: \n",
      "A value is trying to be set on a copy of a slice from a DataFrame.\n",
      "Try using .loc[row_indexer,col_indexer] = value instead\n",
      "\n",
      "See the caveats in the documentation: https://pandas.pydata.org/pandas-docs/stable/user_guide/indexing.html#returning-a-view-versus-a-copy\n",
      "  dfVariaveis['duracao_ms'] = dfVariaveis['duracao_ms'] / 60000\n"
     ]
    }
   ],
   "source": [
    "# dfVariaveis = df[['artista', 'musica', 'dancabilidade', 'ao_vivo', 'duracao_ms', 'chave', 'energia', 'genero']]\n",
    "dfVariaveis = df[['artista', 'musica', 'dancabilidade', 'ao_vivo', 'duracao_ms', 'tonalidade', 'energia', 'genero', 'nacionalidade']]\n",
    "\n",
    "dfVariaveis['duracao_ms'] = dfVariaveis['duracao_ms'] / 60000\n",
    "dfVariaveis = dfVariaveis.rename(columns={'duracao_ms': 'duracao', 'chave': 'tonalidade'})\n",
    "dfVariaveis = dfVariaveis.round(2)\n",
    "# dfVariaveis.to_excel(\"variaveis.xlsx\")\n"
   ]
  },
  {
   "cell_type": "code",
   "execution_count": 28,
   "metadata": {},
   "outputs": [],
   "source": [
    "dfTeste['duracao_ms'] = dfTeste['duracao_ms'] / 60000\n",
    "dfTeste = dfTeste.rename(columns={'duracao_ms': 'duracao', 'chave': 'tonalidade'})\n",
    "dfTeste = dfTeste.round(2)\n"
   ]
  },
  {
   "cell_type": "code",
   "execution_count": 29,
   "metadata": {},
   "outputs": [],
   "source": [
    "dfTeste.to_csv(\"databaseNovoTodos.csv\", index=False)"
   ]
  },
  {
   "cell_type": "code",
   "execution_count": 13,
   "metadata": {},
   "outputs": [
    {
     "data": {
      "text/html": [
       "<div>\n",
       "<style scoped>\n",
       "    .dataframe tbody tr th:only-of-type {\n",
       "        vertical-align: middle;\n",
       "    }\n",
       "\n",
       "    .dataframe tbody tr th {\n",
       "        vertical-align: top;\n",
       "    }\n",
       "\n",
       "    .dataframe thead th {\n",
       "        text-align: right;\n",
       "    }\n",
       "</style>\n",
       "<table border=\"1\" class=\"dataframe\">\n",
       "  <thead>\n",
       "    <tr style=\"text-align: right;\">\n",
       "      <th></th>\n",
       "      <th>artista</th>\n",
       "      <th>musica</th>\n",
       "      <th>dancabilidade</th>\n",
       "      <th>ao_vivo</th>\n",
       "      <th>duracao</th>\n",
       "      <th>tonalidade</th>\n",
       "      <th>energia</th>\n",
       "      <th>genero</th>\n",
       "      <th>nacionalidade</th>\n",
       "    </tr>\n",
       "  </thead>\n",
       "  <tbody>\n",
       "    <tr>\n",
       "      <th>0</th>\n",
       "      <td>Ed Sheeran</td>\n",
       "      <td>Shape of You</td>\n",
       "      <td>0.82</td>\n",
       "      <td>0.09</td>\n",
       "      <td>3.90</td>\n",
       "      <td>1</td>\n",
       "      <td>0.65</td>\n",
       "      <td>Pop</td>\n",
       "      <td>0</td>\n",
       "    </tr>\n",
       "    <tr>\n",
       "      <th>1</th>\n",
       "      <td>The Weeknd</td>\n",
       "      <td>Blinding Lights</td>\n",
       "      <td>0.51</td>\n",
       "      <td>0.09</td>\n",
       "      <td>3.33</td>\n",
       "      <td>1</td>\n",
       "      <td>0.73</td>\n",
       "      <td>Pop</td>\n",
       "      <td>0</td>\n",
       "    </tr>\n",
       "    <tr>\n",
       "      <th>2</th>\n",
       "      <td>Tones And I</td>\n",
       "      <td>Dance Monkey</td>\n",
       "      <td>0.82</td>\n",
       "      <td>0.15</td>\n",
       "      <td>3.49</td>\n",
       "      <td>6</td>\n",
       "      <td>0.59</td>\n",
       "      <td>Alternativo</td>\n",
       "      <td>0</td>\n",
       "    </tr>\n",
       "    <tr>\n",
       "      <th>3</th>\n",
       "      <td>Post Malone, 21 Savage</td>\n",
       "      <td>rockstar (feat. 21 Savage)</td>\n",
       "      <td>0.58</td>\n",
       "      <td>0.13</td>\n",
       "      <td>3.64</td>\n",
       "      <td>5</td>\n",
       "      <td>0.52</td>\n",
       "      <td>Hip-Hop/Rap</td>\n",
       "      <td>1</td>\n",
       "    </tr>\n",
       "    <tr>\n",
       "      <th>4</th>\n",
       "      <td>Lewis Capaldi</td>\n",
       "      <td>Someone You Loved</td>\n",
       "      <td>0.50</td>\n",
       "      <td>0.10</td>\n",
       "      <td>3.04</td>\n",
       "      <td>1</td>\n",
       "      <td>0.40</td>\n",
       "      <td>Alternativo</td>\n",
       "      <td>0</td>\n",
       "    </tr>\n",
       "    <tr>\n",
       "      <th>...</th>\n",
       "      <td>...</td>\n",
       "      <td>...</td>\n",
       "      <td>...</td>\n",
       "      <td>...</td>\n",
       "      <td>...</td>\n",
       "      <td>...</td>\n",
       "      <td>...</td>\n",
       "      <td>...</td>\n",
       "      <td>...</td>\n",
       "    </tr>\n",
       "    <tr>\n",
       "      <th>295</th>\n",
       "      <td>MKTO</td>\n",
       "      <td>Classic</td>\n",
       "      <td>0.72</td>\n",
       "      <td>0.16</td>\n",
       "      <td>2.92</td>\n",
       "      <td>1</td>\n",
       "      <td>0.79</td>\n",
       "      <td>Pop</td>\n",
       "      <td>1</td>\n",
       "    </tr>\n",
       "    <tr>\n",
       "      <th>296</th>\n",
       "      <td>Bad Bunny</td>\n",
       "      <td>Yonaguni</td>\n",
       "      <td>0.64</td>\n",
       "      <td>0.14</td>\n",
       "      <td>3.45</td>\n",
       "      <td>1</td>\n",
       "      <td>0.65</td>\n",
       "      <td>Música Latina Urbana</td>\n",
       "      <td>0</td>\n",
       "    </tr>\n",
       "    <tr>\n",
       "      <th>297</th>\n",
       "      <td>Robin Schulz, Francesco Yates</td>\n",
       "      <td>Sugar (feat. Francesco Yates)</td>\n",
       "      <td>0.64</td>\n",
       "      <td>0.16</td>\n",
       "      <td>3.65</td>\n",
       "      <td>5</td>\n",
       "      <td>0.82</td>\n",
       "      <td>Dance</td>\n",
       "      <td>0</td>\n",
       "    </tr>\n",
       "    <tr>\n",
       "      <th>298</th>\n",
       "      <td>Tate McRae</td>\n",
       "      <td>you broke me first</td>\n",
       "      <td>0.67</td>\n",
       "      <td>0.09</td>\n",
       "      <td>2.82</td>\n",
       "      <td>4</td>\n",
       "      <td>0.37</td>\n",
       "      <td>Pop</td>\n",
       "      <td>0</td>\n",
       "    </tr>\n",
       "    <tr>\n",
       "      <th>299</th>\n",
       "      <td>Doja Cat</td>\n",
       "      <td>Say So</td>\n",
       "      <td>0.79</td>\n",
       "      <td>0.09</td>\n",
       "      <td>3.96</td>\n",
       "      <td>11</td>\n",
       "      <td>0.67</td>\n",
       "      <td>R&amp;B/soul</td>\n",
       "      <td>1</td>\n",
       "    </tr>\n",
       "  </tbody>\n",
       "</table>\n",
       "<p>300 rows × 9 columns</p>\n",
       "</div>"
      ],
      "text/plain": [
       "                           artista                         musica  \\\n",
       "0                       Ed Sheeran                   Shape of You   \n",
       "1                       The Weeknd                Blinding Lights   \n",
       "2                      Tones And I                   Dance Monkey   \n",
       "3           Post Malone, 21 Savage     rockstar (feat. 21 Savage)   \n",
       "4                    Lewis Capaldi              Someone You Loved   \n",
       "..                             ...                            ...   \n",
       "295                           MKTO                        Classic   \n",
       "296                      Bad Bunny                       Yonaguni   \n",
       "297  Robin Schulz, Francesco Yates  Sugar (feat. Francesco Yates)   \n",
       "298                     Tate McRae             you broke me first   \n",
       "299                       Doja Cat                         Say So   \n",
       "\n",
       "     dancabilidade  ao_vivo  duracao  tonalidade  energia  \\\n",
       "0             0.82     0.09     3.90           1     0.65   \n",
       "1             0.51     0.09     3.33           1     0.73   \n",
       "2             0.82     0.15     3.49           6     0.59   \n",
       "3             0.58     0.13     3.64           5     0.52   \n",
       "4             0.50     0.10     3.04           1     0.40   \n",
       "..             ...      ...      ...         ...      ...   \n",
       "295           0.72     0.16     2.92           1     0.79   \n",
       "296           0.64     0.14     3.45           1     0.65   \n",
       "297           0.64     0.16     3.65           5     0.82   \n",
       "298           0.67     0.09     2.82           4     0.37   \n",
       "299           0.79     0.09     3.96          11     0.67   \n",
       "\n",
       "                   genero nacionalidade  \n",
       "0                     Pop             0  \n",
       "1                     Pop             0  \n",
       "2             Alternativo             0  \n",
       "3             Hip-Hop/Rap             1  \n",
       "4             Alternativo             0  \n",
       "..                    ...           ...  \n",
       "295                   Pop             1  \n",
       "296  Música Latina Urbana             0  \n",
       "297                 Dance             0  \n",
       "298                   Pop             0  \n",
       "299              R&B/soul             1  \n",
       "\n",
       "[300 rows x 9 columns]"
      ]
     },
     "execution_count": 13,
     "metadata": {},
     "output_type": "execute_result"
    }
   ],
   "source": [
    "dfQualitativa = dfVariaveis.copy()\n",
    "# dfQualitativa.loc[dfVariaveis['duracao'] < 2, 'duracao'] = 'Muito curta'\n",
    "# dfQualitativa.loc[(dfVariaveis['duracao'] >= 2) & (dfVariaveis['duracao'] < 3.15), 'duracao'] = 'Curta'\n",
    "# dfQualitativa.loc[(dfVariaveis['duracao'] >= 3.15) & (dfVariaveis['duracao'] < 3.7), 'duracao'] = 'Média'\n",
    "# dfQualitativa.loc[(dfVariaveis['duracao'] >= 3.7) & (dfVariaveis['duracao'] < 4.5), 'duracao'] = 'Longa'\n",
    "# dfQualitativa.loc[dfVariaveis['duracao'] >= 4.5, 'duracao'] = 'Muito longa'\n",
    "dfQualitativa"
   ]
  },
  {
   "cell_type": "code",
   "execution_count": 14,
   "metadata": {},
   "outputs": [],
   "source": [
    "dfQualitativa.loc[dfVariaveis['ao_vivo'] <= 0.8, 'ao_vivo'] = 'Estúdio'\n",
    "dfQualitativa.loc[dfVariaveis['ao_vivo'] > 0.8, 'ao_vivo'] = 'Ao Vivo'\n",
    "# dfQualitativa.to_excel(\"database.xlsx\")\n",
    "dfQualitativa.to_csv('databaseNovoEUA.csv')"
   ]
  },
  {
   "cell_type": "code",
   "execution_count": 12,
   "metadata": {},
   "outputs": [],
   "source": [
    "media = dfQualitativa.mean(numeric_only=True)\n",
    "mediana = dfQualitativa.median(numeric_only=True)\n",
    "variancia = dfQualitativa.var(numeric_only=True)\n",
    "dp = dfQualitativa.std(numeric_only=True)\n",
    "coeficiente_variacao = dp / media\n",
    "\n",
    "dfEstatisticas = dfQualitativa.describe()\n",
    "dfEstatisticas.loc['mediana'] = mediana\n",
    "dfEstatisticas.loc['variancia'] = variancia\n",
    "dfEstatisticas.loc['coeficiente_variacao'] = dfEstatisticas.loc['std'] / dfEstatisticas.loc['mean']"
   ]
  },
  {
   "cell_type": "code",
   "execution_count": 13,
   "metadata": {},
   "outputs": [],
   "source": [
    "dfModa = dfQualitativa[['ao_vivo','genero','tonalidade']].mode()\n",
    "dfModa = dfModa.rename_axis('Moda')"
   ]
  },
  {
   "cell_type": "code",
   "execution_count": 14,
   "metadata": {},
   "outputs": [
    {
     "data": {
      "text/html": [
       "<div>\n",
       "<style scoped>\n",
       "    .dataframe tbody tr th:only-of-type {\n",
       "        vertical-align: middle;\n",
       "    }\n",
       "\n",
       "    .dataframe tbody tr th {\n",
       "        vertical-align: top;\n",
       "    }\n",
       "\n",
       "    .dataframe thead th {\n",
       "        text-align: right;\n",
       "    }\n",
       "</style>\n",
       "<table border=\"1\" class=\"dataframe\">\n",
       "  <thead>\n",
       "    <tr style=\"text-align: right;\">\n",
       "      <th></th>\n",
       "      <th>ao_vivo</th>\n",
       "      <th>genero</th>\n",
       "      <th>tonalidade</th>\n",
       "    </tr>\n",
       "    <tr>\n",
       "      <th>Moda</th>\n",
       "      <th></th>\n",
       "      <th></th>\n",
       "      <th></th>\n",
       "    </tr>\n",
       "  </thead>\n",
       "  <tbody>\n",
       "    <tr>\n",
       "      <th>0</th>\n",
       "      <td>Estúdio</td>\n",
       "      <td>Pop</td>\n",
       "      <td>1</td>\n",
       "    </tr>\n",
       "  </tbody>\n",
       "</table>\n",
       "</div>"
      ],
      "text/plain": [
       "      ao_vivo genero  tonalidade\n",
       "Moda                            \n",
       "0     Estúdio    Pop           1"
      ]
     },
     "execution_count": 14,
     "metadata": {},
     "output_type": "execute_result"
    }
   ],
   "source": [
    "dfModa"
   ]
  },
  {
   "cell_type": "code",
   "execution_count": 15,
   "metadata": {},
   "outputs": [],
   "source": [
    "dfEstatisticas= dfEstatisticas.round(2)\n",
    "dfEstatisticas = dfEstatisticas.drop(columns=['tonalidade'])"
   ]
  },
  {
   "cell_type": "code",
   "execution_count": 16,
   "metadata": {},
   "outputs": [],
   "source": [
    "dfEstatisticas = dfEstatisticas.rename({'std': 'Desvio Padrão', 'count': 'Quantidade', 'mean':'Média'})"
   ]
  },
  {
   "cell_type": "code",
   "execution_count": 17,
   "metadata": {},
   "outputs": [
    {
     "data": {
      "text/html": [
       "<div>\n",
       "<style scoped>\n",
       "    .dataframe tbody tr th:only-of-type {\n",
       "        vertical-align: middle;\n",
       "    }\n",
       "\n",
       "    .dataframe tbody tr th {\n",
       "        vertical-align: top;\n",
       "    }\n",
       "\n",
       "    .dataframe thead th {\n",
       "        text-align: right;\n",
       "    }\n",
       "</style>\n",
       "<table border=\"1\" class=\"dataframe\">\n",
       "  <thead>\n",
       "    <tr style=\"text-align: right;\">\n",
       "      <th></th>\n",
       "      <th>dancabilidade</th>\n",
       "      <th>duracao</th>\n",
       "      <th>energia</th>\n",
       "    </tr>\n",
       "  </thead>\n",
       "  <tbody>\n",
       "    <tr>\n",
       "      <th>Quantidade</th>\n",
       "      <td>300.00</td>\n",
       "      <td>300.00</td>\n",
       "      <td>300.00</td>\n",
       "    </tr>\n",
       "    <tr>\n",
       "      <th>Média</th>\n",
       "      <td>0.67</td>\n",
       "      <td>3.64</td>\n",
       "      <td>0.65</td>\n",
       "    </tr>\n",
       "    <tr>\n",
       "      <th>Desvio Padrão</th>\n",
       "      <td>0.14</td>\n",
       "      <td>0.70</td>\n",
       "      <td>0.16</td>\n",
       "    </tr>\n",
       "    <tr>\n",
       "      <th>min</th>\n",
       "      <td>0.21</td>\n",
       "      <td>1.59</td>\n",
       "      <td>0.11</td>\n",
       "    </tr>\n",
       "    <tr>\n",
       "      <th>25%</th>\n",
       "      <td>0.58</td>\n",
       "      <td>3.25</td>\n",
       "      <td>0.54</td>\n",
       "    </tr>\n",
       "    <tr>\n",
       "      <th>50%</th>\n",
       "      <td>0.68</td>\n",
       "      <td>3.56</td>\n",
       "      <td>0.66</td>\n",
       "    </tr>\n",
       "    <tr>\n",
       "      <th>75%</th>\n",
       "      <td>0.76</td>\n",
       "      <td>4.01</td>\n",
       "      <td>0.77</td>\n",
       "    </tr>\n",
       "    <tr>\n",
       "      <th>max</th>\n",
       "      <td>0.95</td>\n",
       "      <td>6.52</td>\n",
       "      <td>0.96</td>\n",
       "    </tr>\n",
       "    <tr>\n",
       "      <th>mediana</th>\n",
       "      <td>0.68</td>\n",
       "      <td>3.56</td>\n",
       "      <td>0.66</td>\n",
       "    </tr>\n",
       "    <tr>\n",
       "      <th>variancia</th>\n",
       "      <td>0.02</td>\n",
       "      <td>0.49</td>\n",
       "      <td>0.03</td>\n",
       "    </tr>\n",
       "    <tr>\n",
       "      <th>coeficiente_variacao</th>\n",
       "      <td>0.21</td>\n",
       "      <td>0.19</td>\n",
       "      <td>0.25</td>\n",
       "    </tr>\n",
       "  </tbody>\n",
       "</table>\n",
       "</div>"
      ],
      "text/plain": [
       "                      dancabilidade  duracao  energia\n",
       "Quantidade                   300.00   300.00   300.00\n",
       "Média                          0.67     3.64     0.65\n",
       "Desvio Padrão                  0.14     0.70     0.16\n",
       "min                            0.21     1.59     0.11\n",
       "25%                            0.58     3.25     0.54\n",
       "50%                            0.68     3.56     0.66\n",
       "75%                            0.76     4.01     0.77\n",
       "max                            0.95     6.52     0.96\n",
       "mediana                        0.68     3.56     0.66\n",
       "variancia                      0.02     0.49     0.03\n",
       "coeficiente_variacao           0.21     0.19     0.25"
      ]
     },
     "execution_count": 17,
     "metadata": {},
     "output_type": "execute_result"
    }
   ],
   "source": [
    "dfEstatisticas"
   ]
  },
  {
   "cell_type": "code",
   "execution_count": 18,
   "metadata": {},
   "outputs": [],
   "source": [
    "dfEstatisticas.to_excel(\"estatisticas.xlsx\")\n",
    "dfModa.to_excel(\"moda.xlsx\")\n"
   ]
  },
  {
   "cell_type": "markdown",
   "metadata": {},
   "source": [
    "## Gráficos"
   ]
  },
  {
   "cell_type": "code",
   "execution_count": 19,
   "metadata": {},
   "outputs": [
    {
     "data": {
      "text/plain": [
       "array([[<AxesSubplot:title={'center':'dancabilidade'}>,\n",
       "        <AxesSubplot:title={'center':'energia'}>,\n",
       "        <AxesSubplot:title={'center':'tonalidade'}>],\n",
       "       [<AxesSubplot:title={'center':'volume'}>,\n",
       "        <AxesSubplot:title={'center':'presenca_palavras'}>,\n",
       "        <AxesSubplot:title={'center':'acustica'}>],\n",
       "       [<AxesSubplot:title={'center':'instrumentalidade'}>,\n",
       "        <AxesSubplot:title={'center':'ao_vivo'}>,\n",
       "        <AxesSubplot:title={'center':'positividade'}>],\n",
       "       [<AxesSubplot:title={'center':'BPM'}>,\n",
       "        <AxesSubplot:title={'center':'duracao_ms'}>, <AxesSubplot:>]],\n",
       "      dtype=object)"
      ]
     },
     "execution_count": 19,
     "metadata": {},
     "output_type": "execute_result"
    },
    {
     "data": {
      "image/png": "[encoded data removed]",
      "text/plain": [
       "<Figure size 432x288 with 12 Axes>"
      ]
     },
     "metadata": {
      "needs_background": "light"
     },
     "output_type": "display_data"
    }
   ],
   "source": [
    "df.hist() "
   ]
  },
  {
   "cell_type": "code",
   "execution_count": 20,
   "metadata": {},
   "outputs": [
    {
     "data": {
      "text/plain": [
       "<AxesSubplot:>"
      ]
     },
     "execution_count": 20,
     "metadata": {},
     "output_type": "execute_result"
    },
    {
     "data": {
      "image/png": "[encoded data removed]",
      "text/plain": [
       "<Figure size 432x288 with 1 Axes>"
      ]
     },
     "metadata": {
      "needs_background": "light"
     },
     "output_type": "display_data"
    }
   ],
   "source": [
    "df['dancabilidade'].plot(kind = 'box')"
   ]
  },
  {
   "cell_type": "code",
   "execution_count": 21,
   "metadata": {},
   "outputs": [
    {
     "data": {
      "image/png": "[encoded data removed]",
      "text/plain": [
       "<Figure size 432x288 with 1 Axes>"
      ]
     },
     "metadata": {
      "needs_background": "light"
     },
     "output_type": "display_data"
    }
   ],
   "source": [
    "plt.hist(df['dancabilidade'],  rwidth=0.9, color='red', alpha=0.7, edgecolor='black', )\n",
    "plt.xlabel('Dançabilidade')\n",
    "plt.ylabel('Frequência Absoluta')\n",
    "# plt.subplots(figsize =(10, 7))\n",
    "plt.show()"
   ]
  },
  {
   "cell_type": "code",
   "execution_count": 22,
   "metadata": {},
   "outputs": [
    {
     "data": {
      "image/png": "[encoded data removed]",
      "text/plain": [
       "<Figure size 626.4x986.4 with 4 Axes>"
      ]
     },
     "metadata": {
      "needs_background": "light"
     },
     "output_type": "display_data"
    }
   ],
   "source": [
    "fig = plt.gcf()\n",
    "fig.set_size_inches(8.7,13.7)\n",
    "# fig.set_size_inches(8.3,15.7)\n",
    "plt.rcParams['xtick.labelsize']=12\n",
    "plt.rcParams['ytick.labelsize']=13\n",
    "plt.rcParams['axes.labelsize']=12\n",
    "fig.text(\n",
    "    x=0.5,\n",
    "    y=0.91,\n",
    "    s='Histogramas',\n",
    "    fontsize = 18,\n",
    "    horizontalalignment='center',\n",
    "    color='black')\n",
    "gs = gridspec.GridSpec(4, 2, hspace=0.5,wspace=0.25)\n",
    "#SIN\n",
    "plt.subplot(gs[0, :])\n",
    "plt.hist(dfVariaveis['dancabilidade'], bins=7, color='#3285a8', alpha=0.6, edgecolor='black') # rwidth=0.9\n",
    "plt.title(\"Dançabilidade\")\n",
    "plt.ylabel('Frequência Absoluta')\n",
    "\n",
    "# plt.grid(True)\n",
    "# plt.legend(loc='upper center', fontsize=11)\n",
    "\n",
    "# plt.antonalidadete(\n",
    "#     'teste',\n",
    "#     xy=(mes,new_sin_load),\n",
    "#     color='#143c5a',\n",
    "#     fontsize = 10,\n",
    "#     xytext=(0,-20),\n",
    "#     textcoords='offset points'\n",
    "# )\n",
    "# for i, row in last_sin_load['antiga'].iterrows():\n",
    "#     plt.antonalidadete(\n",
    "#         str(row['CARGA ANTIGA']),\n",
    "#         xy=(row['DATA'],row['CARGA ANTIGA']),\n",
    "#         color='#2fb3c3',\n",
    "#         fontsize = 10,\n",
    "#         xytext=(0,10),\n",
    "#         textcoords='offset points'\n",
    "#     )\n",
    "\n",
    "# import math\n",
    "# import numpy as np\n",
    "# classes = [0, 2, 3.15, 3.7, 4.5, 4.98]\n",
    "# bins = np.array(classes)\n",
    "\n",
    "# plt.subplot(gs[1,:])\n",
    "# plt.hist(dfVariaveis['duracao'], bins=bins, alpha=0.6, edgecolor='black')\n",
    "# plt.title('Duração (minutos)')\n",
    "# plt.ylabel('Frequência Absoluta')\n",
    "\n",
    "\n",
    "\n",
    "# plt.subplot(gs[1,0])\n",
    "# plt.hist(dfVariaveis['BPM'], bins=7, alpha=0.6, edgecolor='black')\n",
    "# plt.title('BPM (Batidas Por Minuto)')\n",
    "\n",
    "# plt.subplot(gs[1,1])\n",
    "# plt.hist(dfVariaveis['ao_vivo'], bins=7, alpha=0.6, edgecolor='black')\n",
    "# plt.title('Ao Vivo')\n",
    "# plt.ylabel('Frequência Absoluta')\n",
    "\n",
    "plt.subplot(gs[1,:])\n",
    "plt.hist(dfVariaveis['tonalidade'], bins=7, color='#3255a8', alpha=0.6, edgecolor='black')\n",
    "plt.title('Tonalidade')\n",
    "plt.ylabel('Frequência Absoluta')\n",
    "\n",
    "\n",
    "plt.subplot(gs[2,:])\n",
    "plt.hist(dfVariaveis['energia'], bins=7, color='#5632a8', alpha=0.6, edgecolor='black')\n",
    "plt.title('Energia')\n",
    "plt.ylabel('Frequência Absoluta')\n",
    "\n",
    "plt.subplot(gs[3,:])\n",
    "plt.hist(dfVariaveis['duracao'], bins=7, color='#B4FAD8', alpha=0.7, edgecolor='black')\n",
    "plt.title('Duração (Minutos)')\n",
    "plt.ylabel('Frequência Absoluta')\n",
    "\n",
    "# plt.subplot(gs[3,0])\n",
    "# plt.hist(dfVariaveis['positividade'], bins=7, alpha=0.6, edgecolor='black')\n",
    "# plt.title('Positividade')\n",
    "\n",
    "\n",
    "\n",
    "# plt.savefig('histogramas.png', format='png')\n",
    "plt.show()\n",
    "\n",
    "\n"
   ]
  },
  {
   "cell_type": "code",
   "execution_count": 77,
   "metadata": {},
   "outputs": [
    {
     "data": {
      "text/plain": [
       "Text(0, 0.5, 'Frequência Absoluta')"
      ]
     },
     "execution_count": 77,
     "metadata": {},
     "output_type": "execute_result"
    },
    {
     "data": {
      "image/png": "[encoded data removed]",
      "text/plain": [
       "<Figure size 432x288 with 1 Axes>"
      ]
     },
     "metadata": {
      "needs_background": "light"
     },
     "output_type": "display_data"
    }
   ],
   "source": [
    "plt.plot()\n",
    "plt.hist(dfVariaveis['duracao'], bins=17, color='#3285a8', alpha=0.6, edgecolor='black') # rwidth=0.9\n",
    "plt.title(\"Dançabilidade\")\n",
    "plt.ylabel('Frequência Absoluta')"
   ]
  },
  {
   "cell_type": "code",
   "execution_count": 24,
   "metadata": {},
   "outputs": [],
   "source": [
    "import statsmodels.api as sm\n",
    "from scipy.stats import norm\n",
    "import pylab"
   ]
  },
  {
   "cell_type": "code",
   "execution_count": 57,
   "metadata": {},
   "outputs": [
    {
     "data": {
      "image/png": "[encoded data removed]",
      "text/plain": [
       "<Figure size 432x288 with 1 Axes>"
      ]
     },
     "metadata": {
      "needs_background": "light"
     },
     "output_type": "display_data"
    }
   ],
   "source": [
    "my_data = norm.rvs(size=300)\n",
    "sm.qqplot(dfVariaveis['duracao'], line='45')\n",
    "pylab.show()"
   ]
  },
  {
   "cell_type": "code",
   "execution_count": 55,
   "metadata": {},
   "outputs": [
    {
     "name": "stdout",
     "output_type": "stream",
     "text": [
      "0.9733711989164548 0.0\n"
     ]
    }
   ],
   "source": [
    "from scipy.stats import kstest, norm\n",
    "my_data = norm.rvs(size=1000)\n",
    "ks_statistic, p_value = kstest(dfVariaveis['duracao'], 'norm')\n",
    "print(ks_statistic, p_value)"
   ]
  },
  {
   "cell_type": "code",
   "execution_count": 58,
   "metadata": {},
   "outputs": [
    {
     "data": {
      "image/png": "[encoded data removed]",
      "text/plain": [
       "<Figure size 504x504 with 1 Axes>"
      ]
     },
     "metadata": {
      "needs_background": "light"
     },
     "output_type": "display_data"
    }
   ],
   "source": [
    "from collections import Counter\n",
    "letter_counts = Counter(dfQualitativa['genero'])\n",
    "df = pd.DataFrame.from_dict(letter_counts, orient='index')\n",
    "df = df.reindex(index = ['Muito curta', 'Curta', 'Média', 'Longa', 'Muito longa'])\n",
    "# df.plot(kind='bar')\n",
    "fig = plt.figure(figsize =(7, 7))\n",
    "\n",
    "fig.text(x=0.5,\n",
    "    y=0.9, \n",
    "    s=\"Duração\",\n",
    "    fontsize = 18,\n",
    "    horizontalalignment='center',\n",
    "    color='black')\n",
    "plt.bar(df.index, [2, 22, 12, 13, 1], width=0.6, align='center', color='red', alpha=0.6, edgecolor='black')\n",
    "# plt.savefig('duracao-barras.png', format='png')\n",
    "plt.show()\n",
    "# df.values.tolist()"
   ]
  },
  {
   "cell_type": "code",
   "execution_count": 59,
   "metadata": {},
   "outputs": [
    {
     "data": {
      "image/png": "[encoded data removed]",
      "text/plain": [
       "<Figure size 504x504 with 1 Axes>"
      ]
     },
     "metadata": {
      "needs_background": "light"
     },
     "output_type": "display_data"
    }
   ],
   "source": [
    "# Creating dataset\n",
    "data = [dfQualitativa['dancabilidade'], dfQualitativa['energia']]\n",
    "\n",
    "fig = plt.figure(figsize =(7, 7))\n",
    "\n",
    "fig.text(x=1.5,\n",
    "    y=1.02, \n",
    "    s=\"Boxplots\",\n",
    "    fontsize = 18,\n",
    "    horizontalalignment='center',\n",
    "    color='black')\n",
    " \n",
    "# Creating axes instance\n",
    "ax = fig.add_axes([1, 0, 1, 1])\n",
    " \n",
    "# Creating plot\n",
    "bp = ax.boxplot(data, labels=['Dançabilidade', 'Energia'], widths=(0.31, 0.31), patch_artist=True)\n",
    "\n",
    "colors = ['#B4FAD8', '#DFAFE3'] \n",
    "  \n",
    "for patch, color in zip(bp['boxes'], colors): \n",
    "    patch.set_facecolor(color) \n",
    "for whisker in bp['whiskers']: \n",
    "    whisker.set(color ='#000000', \n",
    "                linewidth = 1)\n",
    "for cap in bp['caps']: \n",
    "    cap.set(color ='black', \n",
    "            linewidth = 1.5) \n",
    "for median in bp['medians']: \n",
    "    median.set(color ='black', \n",
    "               linewidth = 2) \n",
    "for flier in bp['fliers']: \n",
    "    flier.set(marker ='D', \n",
    "              color ='black', \n",
    "              alpha = 0.6) \n",
    " \n",
    "\n",
    "# show plot\n",
    "# plt.savefig('boxplots.jpg', format='jpg')\n",
    "\n",
    "plt.show()"
   ]
  },
  {
   "cell_type": "code",
   "execution_count": 23,
   "metadata": {},
   "outputs": [
    {
     "data": {
      "image/png": "[encoded data removed]",
      "text/plain": [
       "<Figure size 504x504 with 1 Axes>"
      ]
     },
     "metadata": {
      "needs_background": "light"
     },
     "output_type": "display_data"
    }
   ],
   "source": [
    "data = [dfQualitativa['tonalidade']]\n",
    "\n",
    "fig = plt.figure(figsize =(7, 7))\n",
    "\n",
    "fig.text(x=1.5,\n",
    "    y=1.02, \n",
    "    s=\"Boxplot - Tonalidade\",\n",
    "    fontsize = 18,\n",
    "    horizontalalignment='center',\n",
    "    color='black')\n",
    " \n",
    "# Creating axes instance\n",
    "ax = fig.add_axes([1, 0, 1, 1])\n",
    " \n",
    "# Creating plot\n",
    "bp = ax.boxplot(data, labels=['Tonalidade'], widths=(0.22),  patch_artist=True)\n",
    "\n",
    "colors = ['#D0EAF2'] \n",
    "  \n",
    "for patch, color in zip(bp['boxes'], colors): \n",
    "    patch.set_facecolor(color) \n",
    "for whisker in bp['whiskers']: \n",
    "    whisker.set(color ='#000000', \n",
    "                linewidth = 1)\n",
    "for cap in bp['caps']: \n",
    "    cap.set(color ='black', \n",
    "            linewidth = 1.5) \n",
    "for median in bp['medians']: \n",
    "    median.set(color ='black', \n",
    "               linewidth = 2) \n",
    "for flier in bp['fliers']: \n",
    "    flier.set(marker ='D', \n",
    "              color ='black', \n",
    "              alpha = 0.6) \n",
    " \n",
    "\n",
    "# plt.savefig('tonalidade-boxplot.png', format='png')\n",
    "plt.show()"
   ]
  },
  {
   "cell_type": "code",
   "execution_count": 60,
   "metadata": {},
   "outputs": [
    {
     "data": {
      "image/png": "[encoded data removed]",
      "text/plain": [
       "<Figure size 504x504 with 1 Axes>"
      ]
     },
     "metadata": {
      "needs_background": "light"
     },
     "output_type": "display_data"
    }
   ],
   "source": [
    "data = [dfQualitativa['duracao']]\n",
    "\n",
    "fig = plt.figure(figsize =(7, 7))\n",
    "\n",
    "fig.text(x=1.5,\n",
    "    y=1.02, \n",
    "    s=\"Boxplot - Duração\",\n",
    "    fontsize = 18,\n",
    "    horizontalalignment='center',\n",
    "    color='black')\n",
    " \n",
    "# Creating axes instance\n",
    "ax = fig.add_axes([1, 0, 1, 1])\n",
    " \n",
    "# Creating plot\n",
    "bp = ax.boxplot(data, labels=['Duração'], widths=(0.22),  patch_artist=True)\n",
    "\n",
    "colors = ['#b4c6f0'] \n",
    "  \n",
    "for patch, color in zip(bp['boxes'], colors): \n",
    "    patch.set_facecolor(color) \n",
    "for whisker in bp['whiskers']: \n",
    "    whisker.set(color ='#000000', \n",
    "                linewidth = 1)\n",
    "for cap in bp['caps']: \n",
    "    cap.set(color ='black', \n",
    "            linewidth = 1.5) \n",
    "for median in bp['medians']: \n",
    "    median.set(color ='black', \n",
    "               linewidth = 2) \n",
    "for flier in bp['fliers']: \n",
    "    flier.set(marker ='D', \n",
    "              color ='black', \n",
    "              alpha = 0.6) \n",
    " \n",
    "\n",
    "# plt.savefig('tonalidade-boxplot.png', format='png')\n",
    "plt.show()"
   ]
  },
  {
   "cell_type": "code",
   "execution_count": 25,
   "metadata": {},
   "outputs": [
    {
     "name": "stderr",
     "output_type": "stream",
     "text": [
      "C:\\Users\\julia\\AppData\\Local\\Temp\\ipykernel_13384\\388041746.py:2: SettingWithCopyWarning: \n",
      "A value is trying to be set on a copy of a slice from a DataFrame.\n",
      "Try using .loc[row_indexer,col_indexer] = value instead\n",
      "\n",
      "See the caveats in the documentation: https://pandas.pydata.org/pandas-docs/stable/user_guide/indexing.html#returning-a-view-versus-a-copy\n",
      "  dfTeste['color'] = None\n",
      "c:\\Users\\julia\\AppData\\Local\\Programs\\Python\\Python310\\lib\\site-packages\\pandas\\core\\indexing.py:1684: SettingWithCopyWarning: \n",
      "A value is trying to be set on a copy of a slice from a DataFrame.\n",
      "Try using .loc[row_indexer,col_indexer] = value instead\n",
      "\n",
      "See the caveats in the documentation: https://pandas.pydata.org/pandas-docs/stable/user_guide/indexing.html#returning-a-view-versus-a-copy\n",
      "  self.obj[key] = infer_fill_value(value)\n",
      "c:\\Users\\julia\\AppData\\Local\\Programs\\Python\\Python310\\lib\\site-packages\\pandas\\core\\indexing.py:1817: SettingWithCopyWarning: \n",
      "A value is trying to be set on a copy of a slice from a DataFrame.\n",
      "Try using .loc[row_indexer,col_indexer] = value instead\n",
      "\n",
      "See the caveats in the documentation: https://pandas.pydata.org/pandas-docs/stable/user_guide/indexing.html#returning-a-view-versus-a-copy\n",
      "  self._setitem_single_column(loc, value, pi)\n"
     ]
    },
    {
     "ename": "KeyError",
     "evalue": "'#D0EAF2'",
     "output_type": "error",
     "traceback": [
      "\u001b[1;31m---------------------------------------------------------------------------\u001b[0m",
      "\u001b[1;31mKeyError\u001b[0m                                  Traceback (most recent call last)",
      "File \u001b[1;32mc:\\Users\\julia\\AppData\\Local\\Programs\\Python\\Python310\\lib\\site-packages\\pandas\\core\\indexes\\base.py:3361\u001b[0m, in \u001b[0;36mIndex.get_loc\u001b[1;34m(self, key, method, tolerance)\u001b[0m\n\u001b[0;32m   3360\u001b[0m \u001b[39mtry\u001b[39;00m:\n\u001b[1;32m-> 3361\u001b[0m     \u001b[39mreturn\u001b[39;00m \u001b[39mself\u001b[39;49m\u001b[39m.\u001b[39;49m_engine\u001b[39m.\u001b[39;49mget_loc(casted_key)\n\u001b[0;32m   3362\u001b[0m \u001b[39mexcept\u001b[39;00m \u001b[39mKeyError\u001b[39;00m \u001b[39mas\u001b[39;00m err:\n",
      "File \u001b[1;32mc:\\Users\\julia\\AppData\\Local\\Programs\\Python\\Python310\\lib\\site-packages\\pandas\\_libs\\index.pyx:76\u001b[0m, in \u001b[0;36mpandas._libs.index.IndexEngine.get_loc\u001b[1;34m()\u001b[0m\n",
      "File \u001b[1;32mc:\\Users\\julia\\AppData\\Local\\Programs\\Python\\Python310\\lib\\site-packages\\pandas\\_libs\\index.pyx:108\u001b[0m, in \u001b[0;36mpandas._libs.index.IndexEngine.get_loc\u001b[1;34m()\u001b[0m\n",
      "File \u001b[1;32mpandas\\_libs\\hashtable_class_helper.pxi:5198\u001b[0m, in \u001b[0;36mpandas._libs.hashtable.PyObjectHashTable.get_item\u001b[1;34m()\u001b[0m\n",
      "File \u001b[1;32mpandas\\_libs\\hashtable_class_helper.pxi:5206\u001b[0m, in \u001b[0;36mpandas._libs.hashtable.PyObjectHashTable.get_item\u001b[1;34m()\u001b[0m\n",
      "\u001b[1;31mKeyError\u001b[0m: '#D0EAF2'",
      "\nThe above exception was the direct cause of the following exception:\n",
      "\u001b[1;31mKeyError\u001b[0m                                  Traceback (most recent call last)",
      "\u001b[1;32mc:\\Users\\julia\\OneDrive\\Área de Trabalho\\spotify\\analise.ipynb Célula: 27\u001b[0m in \u001b[0;36m<cell line: 10>\u001b[1;34m()\u001b[0m\n\u001b[0;32m      <a href='vscode-notebook-cell:/c%3A/Users/julia/OneDrive/%C3%81rea%20de%20Trabalho/spotify/analise.ipynb#X35sZmlsZQ%3D%3D?line=7'>8</a>\u001b[0m dfTeste\u001b[39m.\u001b[39mloc[(dfTeste[\u001b[39m'\u001b[39m\u001b[39mduracao\u001b[39m\u001b[39m'\u001b[39m] \u001b[39m>\u001b[39m\u001b[39m=\u001b[39m \u001b[39m3.7\u001b[39m) \u001b[39m&\u001b[39m (dfTeste[\u001b[39m'\u001b[39m\u001b[39mduracao\u001b[39m\u001b[39m'\u001b[39m] \u001b[39m<\u001b[39m \u001b[39m4.5\u001b[39m), color] \u001b[39m=\u001b[39m \u001b[39m'\u001b[39m\u001b[39mblue\u001b[39m\u001b[39m'\u001b[39m\n\u001b[0;32m      <a href='vscode-notebook-cell:/c%3A/Users/julia/OneDrive/%C3%81rea%20de%20Trabalho/spotify/analise.ipynb#X35sZmlsZQ%3D%3D?line=8'>9</a>\u001b[0m dfTeste\u001b[39m.\u001b[39mloc[dfTeste[\u001b[39m'\u001b[39m\u001b[39mduracao\u001b[39m\u001b[39m'\u001b[39m] \u001b[39m>\u001b[39m\u001b[39m=\u001b[39m \u001b[39m4.5\u001b[39m, color] \u001b[39m=\u001b[39m \u001b[39m'\u001b[39m\u001b[39mgreen\u001b[39m\u001b[39m'\u001b[39m\n\u001b[1;32m---> <a href='vscode-notebook-cell:/c%3A/Users/julia/OneDrive/%C3%81rea%20de%20Trabalho/spotify/analise.ipynb#X35sZmlsZQ%3D%3D?line=9'>10</a>\u001b[0m cores \u001b[39m=\u001b[39m \u001b[39mlist\u001b[39m(dfTeste[\u001b[39m'\u001b[39;49m\u001b[39m#D0EAF2\u001b[39;49m\u001b[39m'\u001b[39;49m])\n",
      "File \u001b[1;32mc:\\Users\\julia\\AppData\\Local\\Programs\\Python\\Python310\\lib\\site-packages\\pandas\\core\\frame.py:3458\u001b[0m, in \u001b[0;36mDataFrame.__getitem__\u001b[1;34m(self, key)\u001b[0m\n\u001b[0;32m   3456\u001b[0m \u001b[39mif\u001b[39;00m \u001b[39mself\u001b[39m\u001b[39m.\u001b[39mcolumns\u001b[39m.\u001b[39mnlevels \u001b[39m>\u001b[39m \u001b[39m1\u001b[39m:\n\u001b[0;32m   3457\u001b[0m     \u001b[39mreturn\u001b[39;00m \u001b[39mself\u001b[39m\u001b[39m.\u001b[39m_getitem_multilevel(key)\n\u001b[1;32m-> 3458\u001b[0m indexer \u001b[39m=\u001b[39m \u001b[39mself\u001b[39;49m\u001b[39m.\u001b[39;49mcolumns\u001b[39m.\u001b[39;49mget_loc(key)\n\u001b[0;32m   3459\u001b[0m \u001b[39mif\u001b[39;00m is_integer(indexer):\n\u001b[0;32m   3460\u001b[0m     indexer \u001b[39m=\u001b[39m [indexer]\n",
      "File \u001b[1;32mc:\\Users\\julia\\AppData\\Local\\Programs\\Python\\Python310\\lib\\site-packages\\pandas\\core\\indexes\\base.py:3363\u001b[0m, in \u001b[0;36mIndex.get_loc\u001b[1;34m(self, key, method, tolerance)\u001b[0m\n\u001b[0;32m   3361\u001b[0m         \u001b[39mreturn\u001b[39;00m \u001b[39mself\u001b[39m\u001b[39m.\u001b[39m_engine\u001b[39m.\u001b[39mget_loc(casted_key)\n\u001b[0;32m   3362\u001b[0m     \u001b[39mexcept\u001b[39;00m \u001b[39mKeyError\u001b[39;00m \u001b[39mas\u001b[39;00m err:\n\u001b[1;32m-> 3363\u001b[0m         \u001b[39mraise\u001b[39;00m \u001b[39mKeyError\u001b[39;00m(key) \u001b[39mfrom\u001b[39;00m \u001b[39merr\u001b[39;00m\n\u001b[0;32m   3365\u001b[0m \u001b[39mif\u001b[39;00m is_scalar(key) \u001b[39mand\u001b[39;00m isna(key) \u001b[39mand\u001b[39;00m \u001b[39mnot\u001b[39;00m \u001b[39mself\u001b[39m\u001b[39m.\u001b[39mhasnans:\n\u001b[0;32m   3366\u001b[0m     \u001b[39mraise\u001b[39;00m \u001b[39mKeyError\u001b[39;00m(key)\n",
      "\u001b[1;31mKeyError\u001b[0m: '#D0EAF2'"
     ]
    }
   ],
   "source": [
    "dfTeste = dfVariaveis[['duracao']]\n",
    "dfTeste['color'] = None\n",
    "dfTeste.loc[dfTeste['duracao'] < 2, color] = 'red'\n",
    "dfTeste.loc[(dfTeste['duracao'] >= 2) & (dfTeste['duracao'] < 3.15), color] = 'magenta'\n",
    "# dfTeste.loc[(dfTeste['duracao'] > 2.7) & (dfTeste['duracao'] < 3.15), color] = 'magenta'\n",
    "dfTeste.loc[(dfTeste['duracao'] >= 3.15) & (dfTeste['duracao'] < 3.7), color] = 'purple'\n",
    "# dfTeste.loc[(dfTeste['duracao'] > 3.7) & (dfTeste['duracao'] < 4.2), color] = 'blue'\n",
    "dfTeste.loc[(dfTeste['duracao'] >= 3.7) & (dfTeste['duracao'] < 4.5), color] = 'blue'\n",
    "dfTeste.loc[dfTeste['duracao'] >= 4.5, color] = 'green'\n",
    "cores = list(dfTeste['#D0EAF2'])"
   ]
  },
  {
   "cell_type": "code",
   "execution_count": null,
   "metadata": {},
   "outputs": [
    {
     "data": {
      "image/png": "[encoded data removed]",
      "text/plain": [
       "<Figure size 648x936 with 1 Axes>"
      ]
     },
     "metadata": {
      "needs_background": "light"
     },
     "output_type": "display_data"
    }
   ],
   "source": [
    "fig = plt.gcf()\n",
    "fig.set_size_inches(9,13)\n",
    "# fig.set_size_inches(8.3,15.7)\n",
    "plt.rcParams['xtick.labelsize']=12\n",
    "plt.rcParams['ytick.labelsize']=0\n",
    "plt.rcParams['axes.labelsize']=12\n",
    "# fig.text(\n",
    "#     x=0.5,\n",
    "#     y=0.89,\n",
    "#     s='Gráfico de Dispersão',\n",
    "#     fontsize = 18,\n",
    "#     horizontalalignment='center',\n",
    "#     color='black')\n",
    "gs = gridspec.GridSpec(2, 2, hspace=0.5,wspace=0.3)\n",
    "plt.subplot(gs[0, :])\n",
    "# colors = np.array(cores)\n",
    "# plt.scatter(dfVariaveis['duracao'], dfVariaveis['duracao'], c=colors)\n",
    "plt.plot(dfVariaveis['duracao'], len(dfVariaveis['duracao']) * [0], 'h', c='blue')\n",
    "plt.xlabel(\"Duração (minutos)\")\n",
    "# plt.ylabel(\"Duração (minutos)\")\n",
    "\n",
    "plt.show()"
   ]
  },
  {
   "cell_type": "code",
   "execution_count": null,
   "metadata": {},
   "outputs": [
    {
     "ename": "NameError",
     "evalue": "name 'np' is not defined",
     "output_type": "error",
     "traceback": [
      "\u001b[1;31m---------------------------------------------------------------------------\u001b[0m",
      "\u001b[1;31mNameError\u001b[0m                                 Traceback (most recent call last)",
      "\u001b[1;32mc:\\Users\\julia\\OneDrive\\Área de Trabalho\\spotify\\analise.ipynb Célula: 28\u001b[0m in \u001b[0;36m<cell line: 1>\u001b[1;34m()\u001b[0m\n\u001b[1;32m----> <a href='vscode-notebook-cell:/c%3A/Users/julia/OneDrive/%C3%81rea%20de%20Trabalho/spotify/analise.ipynb#X36sZmlsZQ%3D%3D?line=0'>1</a>\u001b[0m colors \u001b[39m=\u001b[39m np\u001b[39m.\u001b[39marray(cores)\n\u001b[0;32m      <a href='vscode-notebook-cell:/c%3A/Users/julia/OneDrive/%C3%81rea%20de%20Trabalho/spotify/analise.ipynb#X36sZmlsZQ%3D%3D?line=1'>2</a>\u001b[0m plt\u001b[39m.\u001b[39mscatter(dfVariaveis[\u001b[39m'\u001b[39m\u001b[39mduracao\u001b[39m\u001b[39m'\u001b[39m], dfVariaveis[\u001b[39m'\u001b[39m\u001b[39mduracao\u001b[39m\u001b[39m'\u001b[39m], c\u001b[39m=\u001b[39mcolors)\n\u001b[0;32m      <a href='vscode-notebook-cell:/c%3A/Users/julia/OneDrive/%C3%81rea%20de%20Trabalho/spotify/analise.ipynb#X36sZmlsZQ%3D%3D?line=2'>3</a>\u001b[0m plt\u001b[39m.\u001b[39mxlabel(\u001b[39m\"\u001b[39m\u001b[39mDuração (m)\u001b[39m\u001b[39m\"\u001b[39m)\n",
      "\u001b[1;31mNameError\u001b[0m: name 'np' is not defined"
     ]
    }
   ],
   "source": [
    "colors = np.array(cores)\n",
    "plt.scatter(dfVariaveis['duracao'], dfVariaveis['duracao'], c=colors)\n",
    "plt.xlabel(\"Duração (m)\")\n",
    "plt.ylabel(\"Duração (m)\")\n",
    "plt.show()\n"
   ]
  },
  {
   "cell_type": "code",
   "execution_count": 73,
   "metadata": {},
   "outputs": [],
   "source": [
    "import numpy as np\n",
    "fator = 1.5\n",
    "q3, q1 = np.percentile(dfVariaveis['dancabilidade'], [75, 25])"
   ]
  },
  {
   "cell_type": "code",
   "execution_count": 74,
   "metadata": {},
   "outputs": [],
   "source": [
    "fator = 1.5\n",
    "\n",
    "amplitude = q3 - q1\n",
    "\n",
    "lim_inferior = q1 - (amplitude * fator)\n",
    "\n",
    "lim_superior = q3 + (amplitude * fator)"
   ]
  },
  {
   "cell_type": "code",
   "execution_count": 75,
   "metadata": {},
   "outputs": [],
   "source": [
    "dfSemOutliers = dfVariaveis.loc[(dfVariaveis['dancabilidade'] > lowpass) & (dfVariaveis['dancabilidade'] < highpass)]"
   ]
  },
  {
   "cell_type": "code",
   "execution_count": 282,
   "metadata": {},
   "outputs": [
    {
     "data": {
      "image/png": "[encoded data removed]",
      "text/plain": [
       "<Figure size 504x504 with 1 Axes>"
      ]
     },
     "metadata": {
      "needs_background": "light"
     },
     "output_type": "display_data"
    }
   ],
   "source": [
    "data = [dfSemOutliers['dancabilidade']]\n",
    "\n",
    "fig = plt.figure(figsize =(7, 7))\n",
    "\n",
    "fig.text(x=1.5,\n",
    "    y=1.02, \n",
    "    s=\"Boxplot - Dançabilidade\",\n",
    "    fontsize = 18,\n",
    "    horizontalalignment='center',\n",
    "    color='black')\n",
    " \n",
    "# Creating axes instance\n",
    "ax = fig.add_axes([1, 0, 1, 1])\n",
    " \n",
    "# Creating plot\n",
    "bp = ax.boxplot(data, labels=['Duração'], widths=(0.22),  patch_artist=True)\n",
    "\n",
    "colors = ['#b4c6f0'] \n",
    "  \n",
    "for patch, color in zip(bp['boxes'], colors): \n",
    "    patch.set_facecolor(color) \n",
    "for whisker in bp['whiskers']: \n",
    "    whisker.set(color ='#000000', \n",
    "                linewidth = 1)\n",
    "for cap in bp['caps']: \n",
    "    cap.set(color ='black', \n",
    "            linewidth = 1.5) \n",
    "for median in bp['medians']: \n",
    "    median.set(color ='black', \n",
    "               linewidth = 2) \n",
    "for flier in bp['fliers']: \n",
    "    flier.set(marker ='D', \n",
    "              color ='black', \n",
    "              alpha = 0.6) \n",
    " \n",
    "\n",
    "# plt.savefig('tonalidade-boxplot.png', format='png')\n",
    "plt.show()"
   ]
  },
  {
   "cell_type": "code",
   "execution_count": 76,
   "metadata": {},
   "outputs": [
    {
     "data": {
      "text/plain": [
       "Text(0, 0.5, 'Frequência Absoluta')"
      ]
     },
     "execution_count": 76,
     "metadata": {},
     "output_type": "execute_result"
    },
    {
     "data": {
      "image/png": "[encoded data removed]",
      "text/plain": [
       "<Figure size 432x288 with 1 Axes>"
      ]
     },
     "metadata": {
      "needs_background": "light"
     },
     "output_type": "display_data"
    }
   ],
   "source": [
    "plt.plot()\n",
    "plt.hist(dfSemOutliers['duracao'], bins=17, color='#3285a8', alpha=0.6, edgecolor='black') # rwidth=0.9\n",
    "plt.title(\"Dançabilidade\")\n",
    "plt.ylabel('Frequência Absoluta')"
   ]
  },
  {
   "cell_type": "code",
   "execution_count": 71,
   "metadata": {},
   "outputs": [
    {
     "data": {
      "image/png": "[encoded data removed]",
      "text/plain": [
       "<Figure size 432x288 with 1 Axes>"
      ]
     },
     "metadata": {
      "needs_background": "light"
     },
     "output_type": "display_data"
    }
   ],
   "source": [
    "my_data = norm.rvs(size=300)\n",
    "sm.qqplot(dfSemOutliers['duracao'], line='45')\n",
    "pylab.show()"
   ]
  },
  {
   "cell_type": "code",
   "execution_count": 86,
   "metadata": {},
   "outputs": [],
   "source": [
    "dfSemOutliers.to_csv('databaseSemOutliers.csv')"
   ]
  },
  {
   "cell_type": "code",
   "execution_count": 126,
   "metadata": {},
   "outputs": [
    {
     "data": {
      "text/html": [
       "<div>\n",
       "<style scoped>\n",
       "    .dataframe tbody tr th:only-of-type {\n",
       "        vertical-align: middle;\n",
       "    }\n",
       "\n",
       "    .dataframe tbody tr th {\n",
       "        vertical-align: top;\n",
       "    }\n",
       "\n",
       "    .dataframe thead th {\n",
       "        text-align: right;\n",
       "    }\n",
       "</style>\n",
       "<table border=\"1\" class=\"dataframe\">\n",
       "  <thead>\n",
       "    <tr style=\"text-align: right;\">\n",
       "      <th></th>\n",
       "      <th>artista</th>\n",
       "      <th>musica</th>\n",
       "      <th>dancabilidade</th>\n",
       "      <th>ao_vivo</th>\n",
       "      <th>duracao</th>\n",
       "      <th>tonalidade</th>\n",
       "      <th>energia</th>\n",
       "      <th>genero</th>\n",
       "      <th>nacionalidade</th>\n",
       "    </tr>\n",
       "  </thead>\n",
       "  <tbody>\n",
       "    <tr>\n",
       "      <th>0</th>\n",
       "      <td>Ed Sheeran</td>\n",
       "      <td>Shape of You</td>\n",
       "      <td>0.82</td>\n",
       "      <td>0.09</td>\n",
       "      <td>3.90</td>\n",
       "      <td>1</td>\n",
       "      <td>0.65</td>\n",
       "      <td>Pop</td>\n",
       "      <td>Reino Unido</td>\n",
       "    </tr>\n",
       "    <tr>\n",
       "      <th>1</th>\n",
       "      <td>The Weeknd</td>\n",
       "      <td>Blinding Lights</td>\n",
       "      <td>0.51</td>\n",
       "      <td>0.09</td>\n",
       "      <td>3.33</td>\n",
       "      <td>1</td>\n",
       "      <td>0.73</td>\n",
       "      <td>Pop</td>\n",
       "      <td>Canadá</td>\n",
       "    </tr>\n",
       "    <tr>\n",
       "      <th>2</th>\n",
       "      <td>Tones And I</td>\n",
       "      <td>Dance Monkey</td>\n",
       "      <td>0.82</td>\n",
       "      <td>0.15</td>\n",
       "      <td>3.49</td>\n",
       "      <td>6</td>\n",
       "      <td>0.59</td>\n",
       "      <td>Alternativo</td>\n",
       "      <td>Austrália</td>\n",
       "    </tr>\n",
       "    <tr>\n",
       "      <th>3</th>\n",
       "      <td>Post Malone, 21 Savage</td>\n",
       "      <td>rockstar (feat. 21 Savage)</td>\n",
       "      <td>0.58</td>\n",
       "      <td>0.13</td>\n",
       "      <td>3.64</td>\n",
       "      <td>5</td>\n",
       "      <td>0.52</td>\n",
       "      <td>Hip-Hop/Rap</td>\n",
       "      <td>Estados Unidos</td>\n",
       "    </tr>\n",
       "    <tr>\n",
       "      <th>4</th>\n",
       "      <td>Lewis Capaldi</td>\n",
       "      <td>Someone You Loved</td>\n",
       "      <td>0.50</td>\n",
       "      <td>0.10</td>\n",
       "      <td>3.04</td>\n",
       "      <td>1</td>\n",
       "      <td>0.40</td>\n",
       "      <td>Alternativo</td>\n",
       "      <td>Reino Unido</td>\n",
       "    </tr>\n",
       "    <tr>\n",
       "      <th>...</th>\n",
       "      <td>...</td>\n",
       "      <td>...</td>\n",
       "      <td>...</td>\n",
       "      <td>...</td>\n",
       "      <td>...</td>\n",
       "      <td>...</td>\n",
       "      <td>...</td>\n",
       "      <td>...</td>\n",
       "      <td>...</td>\n",
       "    </tr>\n",
       "    <tr>\n",
       "      <th>295</th>\n",
       "      <td>MKTO</td>\n",
       "      <td>Classic</td>\n",
       "      <td>0.72</td>\n",
       "      <td>0.16</td>\n",
       "      <td>2.92</td>\n",
       "      <td>1</td>\n",
       "      <td>0.79</td>\n",
       "      <td>Pop</td>\n",
       "      <td>Estados Unidos</td>\n",
       "    </tr>\n",
       "    <tr>\n",
       "      <th>296</th>\n",
       "      <td>Bad Bunny</td>\n",
       "      <td>Yonaguni</td>\n",
       "      <td>0.64</td>\n",
       "      <td>0.14</td>\n",
       "      <td>3.45</td>\n",
       "      <td>1</td>\n",
       "      <td>0.65</td>\n",
       "      <td>Música Latina Urbana</td>\n",
       "      <td>Porto Rico</td>\n",
       "    </tr>\n",
       "    <tr>\n",
       "      <th>297</th>\n",
       "      <td>Robin Schulz, Francesco Yates</td>\n",
       "      <td>Sugar (feat. Francesco Yates)</td>\n",
       "      <td>0.64</td>\n",
       "      <td>0.16</td>\n",
       "      <td>3.65</td>\n",
       "      <td>5</td>\n",
       "      <td>0.82</td>\n",
       "      <td>Dance</td>\n",
       "      <td>Alemanha</td>\n",
       "    </tr>\n",
       "    <tr>\n",
       "      <th>298</th>\n",
       "      <td>Tate McRae</td>\n",
       "      <td>you broke me first</td>\n",
       "      <td>0.67</td>\n",
       "      <td>0.09</td>\n",
       "      <td>2.82</td>\n",
       "      <td>4</td>\n",
       "      <td>0.37</td>\n",
       "      <td>Pop</td>\n",
       "      <td>Canadá</td>\n",
       "    </tr>\n",
       "    <tr>\n",
       "      <th>299</th>\n",
       "      <td>Doja Cat</td>\n",
       "      <td>Say So</td>\n",
       "      <td>0.79</td>\n",
       "      <td>0.09</td>\n",
       "      <td>3.96</td>\n",
       "      <td>11</td>\n",
       "      <td>0.67</td>\n",
       "      <td>R&amp;B/soul</td>\n",
       "      <td>Estados Unidos</td>\n",
       "    </tr>\n",
       "  </tbody>\n",
       "</table>\n",
       "<p>297 rows × 9 columns</p>\n",
       "</div>"
      ],
      "text/plain": [
       "                           artista                         musica  \\\n",
       "0                       Ed Sheeran                   Shape of You   \n",
       "1                       The Weeknd                Blinding Lights   \n",
       "2                      Tones And I                   Dance Monkey   \n",
       "3           Post Malone, 21 Savage     rockstar (feat. 21 Savage)   \n",
       "4                    Lewis Capaldi              Someone You Loved   \n",
       "..                             ...                            ...   \n",
       "295                           MKTO                        Classic   \n",
       "296                      Bad Bunny                       Yonaguni   \n",
       "297  Robin Schulz, Francesco Yates  Sugar (feat. Francesco Yates)   \n",
       "298                     Tate McRae             you broke me first   \n",
       "299                       Doja Cat                         Say So   \n",
       "\n",
       "     dancabilidade  ao_vivo  duracao  tonalidade  energia  \\\n",
       "0             0.82     0.09     3.90           1     0.65   \n",
       "1             0.51     0.09     3.33           1     0.73   \n",
       "2             0.82     0.15     3.49           6     0.59   \n",
       "3             0.58     0.13     3.64           5     0.52   \n",
       "4             0.50     0.10     3.04           1     0.40   \n",
       "..             ...      ...      ...         ...      ...   \n",
       "295           0.72     0.16     2.92           1     0.79   \n",
       "296           0.64     0.14     3.45           1     0.65   \n",
       "297           0.64     0.16     3.65           5     0.82   \n",
       "298           0.67     0.09     2.82           4     0.37   \n",
       "299           0.79     0.09     3.96          11     0.67   \n",
       "\n",
       "                   genero   nacionalidade  \n",
       "0                     Pop     Reino Unido  \n",
       "1                     Pop          Canadá  \n",
       "2             Alternativo       Austrália  \n",
       "3             Hip-Hop/Rap  Estados Unidos  \n",
       "4             Alternativo     Reino Unido  \n",
       "..                    ...             ...  \n",
       "295                   Pop  Estados Unidos  \n",
       "296  Música Latina Urbana      Porto Rico  \n",
       "297                 Dance        Alemanha  \n",
       "298                   Pop          Canadá  \n",
       "299              R&B/soul  Estados Unidos  \n",
       "\n",
       "[297 rows x 9 columns]"
      ]
     },
     "execution_count": 126,
     "metadata": {},
     "output_type": "execute_result"
    }
   ],
   "source": [
    "dfSemOutliers"
   ]
  },
  {
   "cell_type": "code",
   "execution_count": 186,
   "metadata": {},
   "outputs": [],
   "source": [
    "dct = {}\n",
    "lista = []\n",
    "dctAux = {}\n",
    "for genero in list(set(dfSemOutliers['genero'])):\n",
    "    for pais in list(set(dfSemOutliers['nacionalidade'])):\n",
    "        dfNovo = dfSemOutliers.loc[(dfSemOutliers['genero'] == genero) & (dfSemOutliers['nacionalidade'] == pais)]\n",
    "        dctAux.update({pais:dfNovo['dancabilidade'].mean()})\n",
    "        dct.update({genero: dctAux})\n",
    "    dctAux = {}\n"
   ]
  },
  {
   "cell_type": "code",
   "execution_count": 214,
   "metadata": {},
   "outputs": [],
   "source": [
    "dfFinal = pd.DataFrame.from_dict(dct)\n",
    "dfFinal.to_csv(\"tabela.csv\")\n",
    "'Indie pop' 'Música Latina Urbana' 'K-pop' 'House' 'Música Latina' 'Pop em espanhol'"
   ]
  },
  {
   "cell_type": "code",
   "execution_count": 230,
   "metadata": {},
   "outputs": [
    {
     "data": {
      "text/html": [
       "<div>\n",
       "<style scoped>\n",
       "    .dataframe tbody tr th:only-of-type {\n",
       "        vertical-align: middle;\n",
       "    }\n",
       "\n",
       "    .dataframe tbody tr th {\n",
       "        vertical-align: top;\n",
       "    }\n",
       "\n",
       "    .dataframe thead th {\n",
       "        text-align: right;\n",
       "    }\n",
       "</style>\n",
       "<table border=\"1\" class=\"dataframe\">\n",
       "  <thead>\n",
       "    <tr style=\"text-align: right;\">\n",
       "      <th></th>\n",
       "      <th>Estados Unidos</th>\n",
       "    </tr>\n",
       "  </thead>\n",
       "  <tbody>\n",
       "    <tr>\n",
       "      <th>Trilha Sonora</th>\n",
       "      <td>0.690000</td>\n",
       "    </tr>\n",
       "    <tr>\n",
       "      <th>Rock</th>\n",
       "      <td>0.516000</td>\n",
       "    </tr>\n",
       "    <tr>\n",
       "      <th>Hip-Hop/Rap</th>\n",
       "      <td>0.734167</td>\n",
       "    </tr>\n",
       "    <tr>\n",
       "      <th>Dance</th>\n",
       "      <td>0.663333</td>\n",
       "    </tr>\n",
       "    <tr>\n",
       "      <th>R&amp;B/soul</th>\n",
       "      <td>0.661667</td>\n",
       "    </tr>\n",
       "    <tr>\n",
       "      <th>Eletrônica</th>\n",
       "      <td>0.735000</td>\n",
       "    </tr>\n",
       "    <tr>\n",
       "      <th>Hard rock</th>\n",
       "      <td>0.503333</td>\n",
       "    </tr>\n",
       "    <tr>\n",
       "      <th>Pop</th>\n",
       "      <td>0.690625</td>\n",
       "    </tr>\n",
       "    <tr>\n",
       "      <th>Alternativo</th>\n",
       "      <td>0.600000</td>\n",
       "    </tr>\n",
       "    <tr>\n",
       "      <th>Country</th>\n",
       "      <td>0.880000</td>\n",
       "    </tr>\n",
       "  </tbody>\n",
       "</table>\n",
       "</div>"
      ],
      "text/plain": [
       "               Estados Unidos\n",
       "Trilha Sonora        0.690000\n",
       "Rock                 0.516000\n",
       "Hip-Hop/Rap          0.734167\n",
       "Dance                0.663333\n",
       "R&B/soul             0.661667\n",
       "Eletrônica           0.735000\n",
       "Hard rock            0.503333\n",
       "Pop                  0.690625\n",
       "Alternativo          0.600000\n",
       "Country              0.880000"
      ]
     },
     "execution_count": 230,
     "metadata": {},
     "output_type": "execute_result"
    }
   ],
   "source": [
    "pd.DataFrame(dfFinal.loc['Estados Unidos'].dropna())"
   ]
  },
  {
   "cell_type": "code",
   "execution_count": 231,
   "metadata": {},
   "outputs": [
    {
     "data": {
      "text/html": [
       "<div>\n",
       "<style scoped>\n",
       "    .dataframe tbody tr th:only-of-type {\n",
       "        vertical-align: middle;\n",
       "    }\n",
       "\n",
       "    .dataframe tbody tr th {\n",
       "        vertical-align: top;\n",
       "    }\n",
       "\n",
       "    .dataframe thead th {\n",
       "        text-align: right;\n",
       "    }\n",
       "</style>\n",
       "<table border=\"1\" class=\"dataframe\">\n",
       "  <thead>\n",
       "    <tr style=\"text-align: right;\">\n",
       "      <th></th>\n",
       "      <th>Reino Unido</th>\n",
       "    </tr>\n",
       "  </thead>\n",
       "  <tbody>\n",
       "    <tr>\n",
       "      <th>Trilha Sonora</th>\n",
       "      <td>0.730000</td>\n",
       "    </tr>\n",
       "    <tr>\n",
       "      <th>Rock</th>\n",
       "      <td>0.703333</td>\n",
       "    </tr>\n",
       "    <tr>\n",
       "      <th>Dance</th>\n",
       "      <td>0.675714</td>\n",
       "    </tr>\n",
       "    <tr>\n",
       "      <th>Pop</th>\n",
       "      <td>0.646286</td>\n",
       "    </tr>\n",
       "    <tr>\n",
       "      <th>Alternativo</th>\n",
       "      <td>0.506250</td>\n",
       "    </tr>\n",
       "  </tbody>\n",
       "</table>\n",
       "</div>"
      ],
      "text/plain": [
       "               Reino Unido\n",
       "Trilha Sonora     0.730000\n",
       "Rock              0.703333\n",
       "Dance             0.675714\n",
       "Pop               0.646286\n",
       "Alternativo       0.506250"
      ]
     },
     "execution_count": 231,
     "metadata": {},
     "output_type": "execute_result"
    }
   ],
   "source": [
    "pd.DataFrame(dfFinal.loc['Reino Unido'].dropna())"
   ]
  },
  {
   "cell_type": "code",
   "execution_count": 232,
   "metadata": {},
   "outputs": [
    {
     "data": {
      "text/html": [
       "<div>\n",
       "<style scoped>\n",
       "    .dataframe tbody tr th:only-of-type {\n",
       "        vertical-align: middle;\n",
       "    }\n",
       "\n",
       "    .dataframe tbody tr th {\n",
       "        vertical-align: top;\n",
       "    }\n",
       "\n",
       "    .dataframe thead th {\n",
       "        text-align: right;\n",
       "    }\n",
       "</style>\n",
       "<table border=\"1\" class=\"dataframe\">\n",
       "  <thead>\n",
       "    <tr style=\"text-align: right;\">\n",
       "      <th></th>\n",
       "      <th>Canadá</th>\n",
       "    </tr>\n",
       "  </thead>\n",
       "  <tbody>\n",
       "    <tr>\n",
       "      <th>Hip-Hop/Rap</th>\n",
       "      <td>0.770000</td>\n",
       "    </tr>\n",
       "    <tr>\n",
       "      <th>R&amp;B/soul</th>\n",
       "      <td>0.725000</td>\n",
       "    </tr>\n",
       "    <tr>\n",
       "      <th>Pop</th>\n",
       "      <td>0.648462</td>\n",
       "    </tr>\n",
       "    <tr>\n",
       "      <th>Alternativo</th>\n",
       "      <td>0.740000</td>\n",
       "    </tr>\n",
       "  </tbody>\n",
       "</table>\n",
       "</div>"
      ],
      "text/plain": [
       "               Canadá\n",
       "Hip-Hop/Rap  0.770000\n",
       "R&B/soul     0.725000\n",
       "Pop          0.648462\n",
       "Alternativo  0.740000"
      ]
     },
     "execution_count": 232,
     "metadata": {},
     "output_type": "execute_result"
    }
   ],
   "source": [
    "pd.DataFrame(dfFinal.loc['Canadá'].dropna())"
   ]
  },
  {
   "cell_type": "code",
   "execution_count": 233,
   "metadata": {},
   "outputs": [
    {
     "data": {
      "text/html": [
       "<div>\n",
       "<style scoped>\n",
       "    .dataframe tbody tr th:only-of-type {\n",
       "        vertical-align: middle;\n",
       "    }\n",
       "\n",
       "    .dataframe tbody tr th {\n",
       "        vertical-align: top;\n",
       "    }\n",
       "\n",
       "    .dataframe thead th {\n",
       "        text-align: right;\n",
       "    }\n",
       "</style>\n",
       "<table border=\"1\" class=\"dataframe\">\n",
       "  <thead>\n",
       "    <tr style=\"text-align: right;\">\n",
       "      <th></th>\n",
       "      <th>Austrália</th>\n",
       "    </tr>\n",
       "  </thead>\n",
       "  <tbody>\n",
       "    <tr>\n",
       "      <th>Cantores/Compositores</th>\n",
       "      <td>0.550000</td>\n",
       "    </tr>\n",
       "    <tr>\n",
       "      <th>Hard rock</th>\n",
       "      <td>0.460000</td>\n",
       "    </tr>\n",
       "    <tr>\n",
       "      <th>Pop</th>\n",
       "      <td>0.555000</td>\n",
       "    </tr>\n",
       "    <tr>\n",
       "      <th>Alternativo</th>\n",
       "      <td>0.646667</td>\n",
       "    </tr>\n",
       "  </tbody>\n",
       "</table>\n",
       "</div>"
      ],
      "text/plain": [
       "                       Austrália\n",
       "Cantores/Compositores   0.550000\n",
       "Hard rock               0.460000\n",
       "Pop                     0.555000\n",
       "Alternativo             0.646667"
      ]
     },
     "execution_count": 233,
     "metadata": {},
     "output_type": "execute_result"
    }
   ],
   "source": [
    "pd.DataFrame(dfFinal.loc['Austrália'].dropna())"
   ]
  },
  {
   "cell_type": "code",
   "execution_count": 202,
   "metadata": {},
   "outputs": [
    {
     "data": {
      "text/plain": [
       "Suécia            0.690000\n",
       "França            0.650000\n",
       "Dinamarca         0.760000\n",
       "Singapura         0.640000\n",
       "Colômbia          0.780000\n",
       "Austrália         0.555000\n",
       "Itália            0.710000\n",
       "Jamaica           0.780000\n",
       "Canadá            0.648462\n",
       "Noruega           0.570000\n",
       "Reino Unido       0.646286\n",
       "Estados Unidos    0.690625\n",
       "Name: Pop, dtype: float64"
      ]
     },
     "execution_count": 202,
     "metadata": {},
     "output_type": "execute_result"
    }
   ],
   "source": [
    "dfFinal['Pop'].dropna()"
   ]
  },
  {
   "cell_type": "code",
   "execution_count": 206,
   "metadata": {},
   "outputs": [
    {
     "data": {
      "text/plain": [
       "Canadá            0.770000\n",
       "Marrocos          0.730000\n",
       "Estados Unidos    0.734167\n",
       "Alemanha          0.690000\n",
       "Name: Hip-Hop/Rap, dtype: float64"
      ]
     },
     "execution_count": 206,
     "metadata": {},
     "output_type": "execute_result"
    }
   ],
   "source": [
    "dfFinal['Hip-Hop/Rap'].dropna()"
   ]
  },
  {
   "cell_type": "code",
   "execution_count": 207,
   "metadata": {},
   "outputs": [
    {
     "data": {
      "text/plain": [
       "Bélgica           0.860000\n",
       "Austrália         0.646667\n",
       "Canadá            0.740000\n",
       "Reino Unido       0.506250\n",
       "Estados Unidos    0.600000\n",
       "Irlanda           0.570000\n",
       "Name: Alternativo, dtype: float64"
      ]
     },
     "execution_count": 207,
     "metadata": {},
     "output_type": "execute_result"
    }
   ],
   "source": [
    "dfFinal['Alternativo'].dropna()"
   ]
  },
  {
   "cell_type": "code",
   "execution_count": 208,
   "metadata": {},
   "outputs": [
    {
     "data": {
      "text/plain": [
       "Kosovo            0.880000\n",
       "Suécia            0.586667\n",
       "França            0.720000\n",
       "Lituânia          0.690000\n",
       "Reino Unido       0.675714\n",
       "Estados Unidos    0.663333\n",
       "Alemanha          0.640000\n",
       "Países Baixos     0.540000\n",
       "Name: Dance, dtype: float64"
      ]
     },
     "execution_count": 208,
     "metadata": {},
     "output_type": "execute_result"
    }
   ],
   "source": [
    "dfFinal['Dance'].dropna()"
   ]
  },
  {
   "cell_type": "code",
   "execution_count": 209,
   "metadata": {},
   "outputs": [
    {
     "data": {
      "text/plain": [
       "Canadá            0.725000\n",
       "Estados Unidos    0.661667\n",
       "Name: R&B/soul, dtype: float64"
      ]
     },
     "execution_count": 209,
     "metadata": {},
     "output_type": "execute_result"
    }
   ],
   "source": [
    "dfFinal['R&B/soul'].dropna()"
   ]
  },
  {
   "cell_type": "code",
   "execution_count": 210,
   "metadata": {},
   "outputs": [
    {
     "data": {
      "text/plain": [
       "Reino Unido       0.703333\n",
       "Estados Unidos    0.516000\n",
       "Name: Rock, dtype: float64"
      ]
     },
     "execution_count": 210,
     "metadata": {},
     "output_type": "execute_result"
    }
   ],
   "source": [
    "dfFinal['Rock'].dropna()"
   ]
  },
  {
   "cell_type": "code",
   "execution_count": 219,
   "metadata": {},
   "outputs": [
    {
     "data": {
      "text/plain": [
       "Alemanha    0.88\n",
       "Name: Indie pop, dtype: float64"
      ]
     },
     "execution_count": 219,
     "metadata": {},
     "output_type": "execute_result"
    }
   ],
   "source": [
    "dfFinal['Indie pop'].dropna()"
   ]
  },
  {
   "cell_type": "code",
   "execution_count": 221,
   "metadata": {},
   "outputs": [
    {
     "data": {
      "text/plain": [
       "Suécia    0.53\n",
       "Name: House, dtype: float64"
      ]
     },
     "execution_count": 221,
     "metadata": {},
     "output_type": "execute_result"
    }
   ],
   "source": [
    "dfFinal['House'].dropna()"
   ]
  },
  {
   "cell_type": "code",
   "execution_count": 204,
   "metadata": {},
   "outputs": [
    {
     "data": {
      "text/html": [
       "<div>\n",
       "<style scoped>\n",
       "    .dataframe tbody tr th:only-of-type {\n",
       "        vertical-align: middle;\n",
       "    }\n",
       "\n",
       "    .dataframe tbody tr th {\n",
       "        vertical-align: top;\n",
       "    }\n",
       "\n",
       "    .dataframe thead th {\n",
       "        text-align: right;\n",
       "    }\n",
       "</style>\n",
       "<table border=\"1\" class=\"dataframe\">\n",
       "  <thead>\n",
       "    <tr style=\"text-align: right;\">\n",
       "      <th></th>\n",
       "      <th>artista</th>\n",
       "      <th>musica</th>\n",
       "      <th>dancabilidade</th>\n",
       "      <th>ao_vivo</th>\n",
       "      <th>duracao</th>\n",
       "      <th>tonalidade</th>\n",
       "      <th>energia</th>\n",
       "      <th>genero</th>\n",
       "      <th>nacionalidade</th>\n",
       "    </tr>\n",
       "  </thead>\n",
       "  <tbody>\n",
       "    <tr>\n",
       "      <th>0</th>\n",
       "      <td>Ed Sheeran</td>\n",
       "      <td>Shape of You</td>\n",
       "      <td>0.82</td>\n",
       "      <td>0.09</td>\n",
       "      <td>3.90</td>\n",
       "      <td>1</td>\n",
       "      <td>0.65</td>\n",
       "      <td>Pop</td>\n",
       "      <td>Reino Unido</td>\n",
       "    </tr>\n",
       "    <tr>\n",
       "      <th>1</th>\n",
       "      <td>The Weeknd</td>\n",
       "      <td>Blinding Lights</td>\n",
       "      <td>0.51</td>\n",
       "      <td>0.09</td>\n",
       "      <td>3.33</td>\n",
       "      <td>1</td>\n",
       "      <td>0.73</td>\n",
       "      <td>Pop</td>\n",
       "      <td>Canadá</td>\n",
       "    </tr>\n",
       "    <tr>\n",
       "      <th>8</th>\n",
       "      <td>Shawn Mendes, Camila Cabello</td>\n",
       "      <td>Señorita</td>\n",
       "      <td>0.76</td>\n",
       "      <td>0.08</td>\n",
       "      <td>3.18</td>\n",
       "      <td>9</td>\n",
       "      <td>0.55</td>\n",
       "      <td>Pop</td>\n",
       "      <td>Canadá</td>\n",
       "    </tr>\n",
       "    <tr>\n",
       "      <th>10</th>\n",
       "      <td>Ed Sheeran</td>\n",
       "      <td>Perfect</td>\n",
       "      <td>0.60</td>\n",
       "      <td>0.11</td>\n",
       "      <td>4.39</td>\n",
       "      <td>8</td>\n",
       "      <td>0.45</td>\n",
       "      <td>Pop</td>\n",
       "      <td>Reino Unido</td>\n",
       "    </tr>\n",
       "    <tr>\n",
       "      <th>11</th>\n",
       "      <td>The Kid LAROI, Justin Bieber</td>\n",
       "      <td>STAY (with Justin Bieber)</td>\n",
       "      <td>0.59</td>\n",
       "      <td>0.10</td>\n",
       "      <td>2.36</td>\n",
       "      <td>1</td>\n",
       "      <td>0.76</td>\n",
       "      <td>Pop</td>\n",
       "      <td>Austrália</td>\n",
       "    </tr>\n",
       "    <tr>\n",
       "      <th>...</th>\n",
       "      <td>...</td>\n",
       "      <td>...</td>\n",
       "      <td>...</td>\n",
       "      <td>...</td>\n",
       "      <td>...</td>\n",
       "      <td>...</td>\n",
       "      <td>...</td>\n",
       "      <td>...</td>\n",
       "      <td>...</td>\n",
       "    </tr>\n",
       "    <tr>\n",
       "      <th>290</th>\n",
       "      <td>Miley Cyrus</td>\n",
       "      <td>Party In The U.S.A.</td>\n",
       "      <td>0.65</td>\n",
       "      <td>0.09</td>\n",
       "      <td>3.37</td>\n",
       "      <td>10</td>\n",
       "      <td>0.70</td>\n",
       "      <td>Pop</td>\n",
       "      <td>Estados Unidos</td>\n",
       "    </tr>\n",
       "    <tr>\n",
       "      <th>292</th>\n",
       "      <td>Ariana Grande</td>\n",
       "      <td>One Last Time</td>\n",
       "      <td>0.63</td>\n",
       "      <td>0.10</td>\n",
       "      <td>3.29</td>\n",
       "      <td>8</td>\n",
       "      <td>0.60</td>\n",
       "      <td>Pop</td>\n",
       "      <td>Estados Unidos</td>\n",
       "    </tr>\n",
       "    <tr>\n",
       "      <th>293</th>\n",
       "      <td>Backstreet Boys</td>\n",
       "      <td>I Want It That Way</td>\n",
       "      <td>0.69</td>\n",
       "      <td>0.15</td>\n",
       "      <td>3.56</td>\n",
       "      <td>6</td>\n",
       "      <td>0.69</td>\n",
       "      <td>Pop</td>\n",
       "      <td>Estados Unidos</td>\n",
       "    </tr>\n",
       "    <tr>\n",
       "      <th>295</th>\n",
       "      <td>MKTO</td>\n",
       "      <td>Classic</td>\n",
       "      <td>0.72</td>\n",
       "      <td>0.16</td>\n",
       "      <td>2.92</td>\n",
       "      <td>1</td>\n",
       "      <td>0.79</td>\n",
       "      <td>Pop</td>\n",
       "      <td>Estados Unidos</td>\n",
       "    </tr>\n",
       "    <tr>\n",
       "      <th>298</th>\n",
       "      <td>Tate McRae</td>\n",
       "      <td>you broke me first</td>\n",
       "      <td>0.67</td>\n",
       "      <td>0.09</td>\n",
       "      <td>2.82</td>\n",
       "      <td>4</td>\n",
       "      <td>0.37</td>\n",
       "      <td>Pop</td>\n",
       "      <td>Canadá</td>\n",
       "    </tr>\n",
       "  </tbody>\n",
       "</table>\n",
       "<p>124 rows × 9 columns</p>\n",
       "</div>"
      ],
      "text/plain": [
       "                          artista                     musica  dancabilidade  \\\n",
       "0                      Ed Sheeran               Shape of You           0.82   \n",
       "1                      The Weeknd            Blinding Lights           0.51   \n",
       "8    Shawn Mendes, Camila Cabello                   Señorita           0.76   \n",
       "10                     Ed Sheeran                    Perfect           0.60   \n",
       "11   The Kid LAROI, Justin Bieber  STAY (with Justin Bieber)           0.59   \n",
       "..                            ...                        ...            ...   \n",
       "290                   Miley Cyrus        Party In The U.S.A.           0.65   \n",
       "292                 Ariana Grande              One Last Time           0.63   \n",
       "293               Backstreet Boys         I Want It That Way           0.69   \n",
       "295                          MKTO                    Classic           0.72   \n",
       "298                    Tate McRae         you broke me first           0.67   \n",
       "\n",
       "     ao_vivo  duracao  tonalidade  energia genero   nacionalidade  \n",
       "0       0.09     3.90           1     0.65    Pop     Reino Unido  \n",
       "1       0.09     3.33           1     0.73    Pop          Canadá  \n",
       "8       0.08     3.18           9     0.55    Pop          Canadá  \n",
       "10      0.11     4.39           8     0.45    Pop     Reino Unido  \n",
       "11      0.10     2.36           1     0.76    Pop       Austrália  \n",
       "..       ...      ...         ...      ...    ...             ...  \n",
       "290     0.09     3.37          10     0.70    Pop  Estados Unidos  \n",
       "292     0.10     3.29           8     0.60    Pop  Estados Unidos  \n",
       "293     0.15     3.56           6     0.69    Pop  Estados Unidos  \n",
       "295     0.16     2.92           1     0.79    Pop  Estados Unidos  \n",
       "298     0.09     2.82           4     0.37    Pop          Canadá  \n",
       "\n",
       "[124 rows x 9 columns]"
      ]
     },
     "execution_count": 204,
     "metadata": {},
     "output_type": "execute_result"
    }
   ],
   "source": [
    "dfSemOutliers.loc[dfSemOutliers['genero'] == 'Pop']"
   ]
  },
  {
   "cell_type": "code",
   "execution_count": 235,
   "metadata": {},
   "outputs": [
    {
     "data": {
      "text/plain": [
       "0      0.82\n",
       "1      0.51\n",
       "8      0.76\n",
       "10     0.60\n",
       "11     0.59\n",
       "       ... \n",
       "290    0.65\n",
       "292    0.63\n",
       "293    0.69\n",
       "295    0.72\n",
       "298    0.67\n",
       "Name: dancabilidade, Length: 124, dtype: float64"
      ]
     },
     "execution_count": 235,
     "metadata": {},
     "output_type": "execute_result"
    }
   ],
   "source": [
    "dfSemOutliers.loc[dfSemOutliers['genero'] == 'Pop', 'dancabilidade']"
   ]
  },
  {
   "cell_type": "code",
   "execution_count": 242,
   "metadata": {},
   "outputs": [],
   "source": [
    "dctGeneros = {'Pop': 126,\n",
    " 'Alternativo': 34,\n",
    " 'Hip-Hop/Rap': 57,\n",
    " 'Trilha Sonora': 6,\n",
    " 'Dance': 26,\n",
    " 'R&B/soul': 14,\n",
    " 'Rock': 11,\n",
    " 'House': 1,\n",
    " 'Eletrônica': 2,\n",
    " 'Pop em espanhol': 4,\n",
    " 'Música Latina': 2,\n",
    " 'K-pop': 1,\n",
    " 'Country': 1,\n",
    " 'Hard rock': 6,\n",
    " 'Cantores/Compositores': 1,\n",
    " 'Música Latina Urbana': 7,\n",
    " 'Indie pop': 1}\n",
    "\n",
    "generos = list(dctGeneros.keys())"
   ]
  },
  {
   "cell_type": "code",
   "execution_count": 246,
   "metadata": {},
   "outputs": [],
   "source": [
    "lista = []\n",
    "for genero in generos:\n",
    "    lista.append(dfSemOutliers.loc[dfSemOutliers['genero'] == genero, 'dancabilidade'])"
   ]
  },
  {
   "cell_type": "code",
   "execution_count": 269,
   "metadata": {},
   "outputs": [],
   "source": [
    "n = 2\n",
    "listas_dividido = [lista[i::n] for i in range(n)]"
   ]
  },
  {
   "cell_type": "code",
   "execution_count": 270,
   "metadata": {},
   "outputs": [],
   "source": [
    "n = 2\n",
    "generos_dividido = [generos[i::n] for i in range(n)]"
   ]
  },
  {
   "cell_type": "code",
   "execution_count": 279,
   "metadata": {},
   "outputs": [
    {
     "data": {
      "image/png": "[encoded data removed]",
      "text/plain": [
       "<Figure size 936x504 with 1 Axes>"
      ]
     },
     "metadata": {
      "needs_background": "light"
     },
     "output_type": "display_data"
    }
   ],
   "source": [
    "# Creating dataset\n",
    "data = listas_dividido[0]\n",
    "\n",
    "fig = plt.figure(figsize =(13, 7))\n",
    "\n",
    "fig.text(x=1.5,\n",
    "    y=1.02, \n",
    "    s=\"Boxplots - Dançabilidade\",\n",
    "    fontsize = 18,\n",
    "    horizontalalignment='center',\n",
    "    color='black')\n",
    " \n",
    "# Creating axes instance\n",
    "ax = fig.add_axes([1, 0, 1, 1])\n",
    " \n",
    "# Creating plot\n",
    "bp = ax.boxplot(data, labels=generos_dividido[0], patch_artist=True)\n",
    "\n",
    "colors = [] \n",
    "  \n",
    "for patch, color in zip(bp['boxes'], colors): \n",
    "    patch.set_facecolor(color) \n",
    "for whisker in bp['whiskers']: \n",
    "    whisker.set(color ='#000000', \n",
    "                linewidth = 1)\n",
    "for cap in bp['caps']: \n",
    "    cap.set(color ='black', \n",
    "            linewidth = 1.5) \n",
    "for median in bp['medians']: \n",
    "    median.set(color ='black', \n",
    "               linewidth = 2) \n",
    "for flier in bp['fliers']: \n",
    "    flier.set(marker ='D', \n",
    "              color ='black', \n",
    "              alpha = 0.6) \n",
    " \n",
    "\n",
    "# show plot\n",
    "# plt.savefig('boxplots.jpg', format='jpg')\n",
    "\n",
    "plt.show()"
   ]
  },
  {
   "cell_type": "code",
   "execution_count": 280,
   "metadata": {},
   "outputs": [
    {
     "data": {
      "image/png": "[encoded data removed]",
      "text/plain": [
       "<Figure size 936x504 with 1 Axes>"
      ]
     },
     "metadata": {
      "needs_background": "light"
     },
     "output_type": "display_data"
    }
   ],
   "source": [
    "# Creating dataset\n",
    "data = listas_dividido[1]\n",
    "\n",
    "fig = plt.figure(figsize =(13, 7))\n",
    "\n",
    "fig.text(x=1.5,\n",
    "    y=1.02, \n",
    "    s=\"Boxplots - Dançabilidade\",\n",
    "    fontsize = 18,\n",
    "    horizontalalignment='center',\n",
    "    color='black')\n",
    " \n",
    "# Creating axes instance\n",
    "ax = fig.add_axes([1, 0, 1, 1])\n",
    " \n",
    "# Creating plot\n",
    "bp = ax.boxplot(data, labels=generos_dividido[1], patch_artist=True)\n",
    "colors = []\n",
    "for patch, color in zip(bp['boxes'], colors): \n",
    "    patch.set_facecolor(color) \n",
    "for whisker in bp['whiskers']: \n",
    "    whisker.set(color ='#000000', \n",
    "                linewidth = 1)\n",
    "for cap in bp['caps']: \n",
    "    cap.set(color ='black', \n",
    "            linewidth = 1.5) \n",
    "for median in bp['medians']: \n",
    "    median.set(color ='black', \n",
    "               linewidth = 2) \n",
    "for flier in bp['fliers']: \n",
    "    flier.set(marker ='D', \n",
    "              color ='black', \n",
    "              alpha = 0.6) \n",
    " \n",
    "\n",
    "# show plot\n",
    "# plt.savefig('boxplots.jpg', format='jpg')\n",
    "\n",
    "plt.show()"
   ]
  },
  {
   "cell_type": "code",
   "execution_count": null,
   "metadata": {},
   "outputs": [],
   "source": []
  }
 ],
 "metadata": {
  "kernelspec": {
   "display_name": "Python 3.10.2 64-bit",
   "language": "python",
   "name": "python3"
  },
  "language_info": {
   "codemirror_mode": {
    "name": "ipython",
    "version": 3
   },
   "file_extension": ".py",
   "mimetype": "text/x-python",
   "name": "python",
   "nbconvert_exporter": "python",
   "pygments_lexer": "ipython3",
   "version": "3.10.2"
  },
  "orig_nbformat": 4,
  "vscode": {
   "interpreter": {
    "hash": "e913b7897ac30ba1cf0615ffc95e0dcac655edcf15ece0252fa093eec079069f"
   }
  }
 },
 "nbformat": 4,
 "nbformat_minor": 2
}
